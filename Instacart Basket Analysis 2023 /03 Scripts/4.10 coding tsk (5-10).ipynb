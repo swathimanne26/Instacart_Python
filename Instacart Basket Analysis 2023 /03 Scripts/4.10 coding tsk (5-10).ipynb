{
 "cells": [
  {
   "cell_type": "code",
   "execution_count": 2,
   "id": "b7735e6d-11ad-481a-bab0-545d97c796ce",
   "metadata": {
    "tags": []
   },
   "outputs": [],
   "source": [
    "# Import libraries\n",
    "import pandas as pd\n",
    "import numpy as np\n",
    "import os\n",
    "import seaborn as sns\n",
    "import matplotlib.pyplot as plt\n",
    "import scipy"
   ]
  },
  {
   "cell_type": "code",
   "execution_count": 8,
   "id": "da92ec72-92cb-459c-9a74-e919faf104fa",
   "metadata": {
    "tags": []
   },
   "outputs": [],
   "source": [
    "pd.options.display.max_rows = 10"
   ]
  },
  {
   "cell_type": "code",
   "execution_count": 7,
   "id": "ae151aa5-70e3-4c13-a7d0-27f8e920c3c3",
   "metadata": {
    "tags": []
   },
   "outputs": [],
   "source": [
    "pd.options.display.max_columns = None"
   ]
  },
  {
   "cell_type": "markdown",
   "id": "f0e5f3aa-d265-470f-b53b-04eecd1e58e6",
   "metadata": {
    "tags": []
   },
   "source": [
    "# Importing normal_activity_subset.pkl"
   ]
  },
  {
   "cell_type": "code",
   "execution_count": 5,
   "id": "248bbc7f-a436-4880-93d6-8e0a93aa20a6",
   "metadata": {
    "tags": []
   },
   "outputs": [],
   "source": [
    "newpath = 'preparedData'"
   ]
  },
  {
   "cell_type": "code",
   "execution_count": 9,
   "id": "b4cb3a93-93fb-49c2-9a5a-337c74d457bb",
   "metadata": {
    "tags": []
   },
   "outputs": [],
   "source": [
    "normal_active_customers_df= pd.read_pickle(os.path.join(newpath,'normal_activity_subset.pkl'))"
   ]
  },
  {
   "cell_type": "code",
   "execution_count": 14,
   "id": "48ef2c33-f54b-4a6f-851d-876ba76bb17f",
   "metadata": {
    "tags": []
   },
   "outputs": [
    {
     "data": {
      "text/html": [
       "<div>\n",
       "<style scoped>\n",
       "    .dataframe tbody tr th:only-of-type {\n",
       "        vertical-align: middle;\n",
       "    }\n",
       "\n",
       "    .dataframe tbody tr th {\n",
       "        vertical-align: top;\n",
       "    }\n",
       "\n",
       "    .dataframe thead th {\n",
       "        text-align: right;\n",
       "    }\n",
       "</style>\n",
       "<table border=\"1\" class=\"dataframe\">\n",
       "  <thead>\n",
       "    <tr style=\"text-align: right;\">\n",
       "      <th></th>\n",
       "      <th>Unnamed: 0_x</th>\n",
       "      <th>order_id</th>\n",
       "      <th>user_id</th>\n",
       "      <th>eval_set</th>\n",
       "      <th>order_number</th>\n",
       "      <th>orders_day_of_week</th>\n",
       "      <th>order_hour_of_day</th>\n",
       "      <th>days_since_prior_order</th>\n",
       "      <th>product_id</th>\n",
       "      <th>add_to_cart_order</th>\n",
       "      <th>reordered</th>\n",
       "      <th>_merge</th>\n",
       "      <th>Unnamed: 0_y</th>\n",
       "      <th>product_name</th>\n",
       "      <th>aisle_id</th>\n",
       "      <th>department_id</th>\n",
       "      <th>prices</th>\n",
       "      <th>busiest_day</th>\n",
       "      <th>busiest_days</th>\n",
       "      <th>busiest_period_of_day</th>\n",
       "      <th>max_order</th>\n",
       "      <th>loyalty_flag</th>\n",
       "      <th>average_price</th>\n",
       "      <th>spending_flag</th>\n",
       "      <th>median_order_frequency</th>\n",
       "      <th>order_frequency_flag</th>\n",
       "      <th>gender</th>\n",
       "      <th>state</th>\n",
       "      <th>age</th>\n",
       "      <th>date_joined</th>\n",
       "      <th>num_of_dependants</th>\n",
       "      <th>martital_status</th>\n",
       "      <th>income</th>\n",
       "      <th>regions</th>\n",
       "      <th>user_activity_flag</th>\n",
       "    </tr>\n",
       "  </thead>\n",
       "  <tbody>\n",
       "    <tr>\n",
       "      <th>0</th>\n",
       "      <td>0</td>\n",
       "      <td>2539329</td>\n",
       "      <td>1</td>\n",
       "      <td>prior</td>\n",
       "      <td>1</td>\n",
       "      <td>2</td>\n",
       "      <td>8</td>\n",
       "      <td>NaN</td>\n",
       "      <td>196</td>\n",
       "      <td>1</td>\n",
       "      <td>0</td>\n",
       "      <td>both</td>\n",
       "      <td>195</td>\n",
       "      <td>Soda</td>\n",
       "      <td>77</td>\n",
       "      <td>7</td>\n",
       "      <td>9.0</td>\n",
       "      <td>Regularly busy</td>\n",
       "      <td>Regularly busy</td>\n",
       "      <td>Average orders</td>\n",
       "      <td>10</td>\n",
       "      <td>New customer</td>\n",
       "      <td>6.367797</td>\n",
       "      <td>Low spender</td>\n",
       "      <td>20.5</td>\n",
       "      <td>Non-frequent customer</td>\n",
       "      <td>Female</td>\n",
       "      <td>Alabama</td>\n",
       "      <td>31</td>\n",
       "      <td>2/17/2019</td>\n",
       "      <td>3</td>\n",
       "      <td>married</td>\n",
       "      <td>40423</td>\n",
       "      <td>South</td>\n",
       "      <td>Normal activity</td>\n",
       "    </tr>\n",
       "    <tr>\n",
       "      <th>1</th>\n",
       "      <td>1</td>\n",
       "      <td>2398795</td>\n",
       "      <td>1</td>\n",
       "      <td>prior</td>\n",
       "      <td>2</td>\n",
       "      <td>3</td>\n",
       "      <td>7</td>\n",
       "      <td>15.0</td>\n",
       "      <td>196</td>\n",
       "      <td>1</td>\n",
       "      <td>1</td>\n",
       "      <td>both</td>\n",
       "      <td>195</td>\n",
       "      <td>Soda</td>\n",
       "      <td>77</td>\n",
       "      <td>7</td>\n",
       "      <td>9.0</td>\n",
       "      <td>Regularly busy</td>\n",
       "      <td>Least busy days</td>\n",
       "      <td>Average orders</td>\n",
       "      <td>10</td>\n",
       "      <td>New customer</td>\n",
       "      <td>6.367797</td>\n",
       "      <td>Low spender</td>\n",
       "      <td>20.5</td>\n",
       "      <td>Non-frequent customer</td>\n",
       "      <td>Female</td>\n",
       "      <td>Alabama</td>\n",
       "      <td>31</td>\n",
       "      <td>2/17/2019</td>\n",
       "      <td>3</td>\n",
       "      <td>married</td>\n",
       "      <td>40423</td>\n",
       "      <td>South</td>\n",
       "      <td>Normal activity</td>\n",
       "    </tr>\n",
       "    <tr>\n",
       "      <th>2</th>\n",
       "      <td>2</td>\n",
       "      <td>473747</td>\n",
       "      <td>1</td>\n",
       "      <td>prior</td>\n",
       "      <td>3</td>\n",
       "      <td>3</td>\n",
       "      <td>12</td>\n",
       "      <td>21.0</td>\n",
       "      <td>196</td>\n",
       "      <td>1</td>\n",
       "      <td>1</td>\n",
       "      <td>both</td>\n",
       "      <td>195</td>\n",
       "      <td>Soda</td>\n",
       "      <td>77</td>\n",
       "      <td>7</td>\n",
       "      <td>9.0</td>\n",
       "      <td>Regularly busy</td>\n",
       "      <td>Least busy days</td>\n",
       "      <td>Most orders</td>\n",
       "      <td>10</td>\n",
       "      <td>New customer</td>\n",
       "      <td>6.367797</td>\n",
       "      <td>Low spender</td>\n",
       "      <td>20.5</td>\n",
       "      <td>Non-frequent customer</td>\n",
       "      <td>Female</td>\n",
       "      <td>Alabama</td>\n",
       "      <td>31</td>\n",
       "      <td>2/17/2019</td>\n",
       "      <td>3</td>\n",
       "      <td>married</td>\n",
       "      <td>40423</td>\n",
       "      <td>South</td>\n",
       "      <td>Normal activity</td>\n",
       "    </tr>\n",
       "    <tr>\n",
       "      <th>3</th>\n",
       "      <td>3</td>\n",
       "      <td>2254736</td>\n",
       "      <td>1</td>\n",
       "      <td>prior</td>\n",
       "      <td>4</td>\n",
       "      <td>4</td>\n",
       "      <td>7</td>\n",
       "      <td>29.0</td>\n",
       "      <td>196</td>\n",
       "      <td>1</td>\n",
       "      <td>1</td>\n",
       "      <td>both</td>\n",
       "      <td>195</td>\n",
       "      <td>Soda</td>\n",
       "      <td>77</td>\n",
       "      <td>7</td>\n",
       "      <td>9.0</td>\n",
       "      <td>Least busy</td>\n",
       "      <td>Least busy days</td>\n",
       "      <td>Average orders</td>\n",
       "      <td>10</td>\n",
       "      <td>New customer</td>\n",
       "      <td>6.367797</td>\n",
       "      <td>Low spender</td>\n",
       "      <td>20.5</td>\n",
       "      <td>Non-frequent customer</td>\n",
       "      <td>Female</td>\n",
       "      <td>Alabama</td>\n",
       "      <td>31</td>\n",
       "      <td>2/17/2019</td>\n",
       "      <td>3</td>\n",
       "      <td>married</td>\n",
       "      <td>40423</td>\n",
       "      <td>South</td>\n",
       "      <td>Normal activity</td>\n",
       "    </tr>\n",
       "    <tr>\n",
       "      <th>4</th>\n",
       "      <td>4</td>\n",
       "      <td>431534</td>\n",
       "      <td>1</td>\n",
       "      <td>prior</td>\n",
       "      <td>5</td>\n",
       "      <td>4</td>\n",
       "      <td>15</td>\n",
       "      <td>28.0</td>\n",
       "      <td>196</td>\n",
       "      <td>1</td>\n",
       "      <td>1</td>\n",
       "      <td>both</td>\n",
       "      <td>195</td>\n",
       "      <td>Soda</td>\n",
       "      <td>77</td>\n",
       "      <td>7</td>\n",
       "      <td>9.0</td>\n",
       "      <td>Least busy</td>\n",
       "      <td>Least busy days</td>\n",
       "      <td>Most orders</td>\n",
       "      <td>10</td>\n",
       "      <td>New customer</td>\n",
       "      <td>6.367797</td>\n",
       "      <td>Low spender</td>\n",
       "      <td>20.5</td>\n",
       "      <td>Non-frequent customer</td>\n",
       "      <td>Female</td>\n",
       "      <td>Alabama</td>\n",
       "      <td>31</td>\n",
       "      <td>2/17/2019</td>\n",
       "      <td>3</td>\n",
       "      <td>married</td>\n",
       "      <td>40423</td>\n",
       "      <td>South</td>\n",
       "      <td>Normal activity</td>\n",
       "    </tr>\n",
       "  </tbody>\n",
       "</table>\n",
       "</div>"
      ],
      "text/plain": [
       "   Unnamed: 0_x  order_id  user_id eval_set  order_number  orders_day_of_week  \\\n",
       "0             0   2539329        1    prior             1                   2   \n",
       "1             1   2398795        1    prior             2                   3   \n",
       "2             2    473747        1    prior             3                   3   \n",
       "3             3   2254736        1    prior             4                   4   \n",
       "4             4    431534        1    prior             5                   4   \n",
       "\n",
       "   order_hour_of_day  days_since_prior_order  product_id  add_to_cart_order  \\\n",
       "0                  8                     NaN         196                  1   \n",
       "1                  7                    15.0         196                  1   \n",
       "2                 12                    21.0         196                  1   \n",
       "3                  7                    29.0         196                  1   \n",
       "4                 15                    28.0         196                  1   \n",
       "\n",
       "   reordered _merge  Unnamed: 0_y product_name  aisle_id  department_id  \\\n",
       "0          0   both           195         Soda        77              7   \n",
       "1          1   both           195         Soda        77              7   \n",
       "2          1   both           195         Soda        77              7   \n",
       "3          1   both           195         Soda        77              7   \n",
       "4          1   both           195         Soda        77              7   \n",
       "\n",
       "   prices     busiest_day     busiest_days busiest_period_of_day  max_order  \\\n",
       "0     9.0  Regularly busy   Regularly busy        Average orders         10   \n",
       "1     9.0  Regularly busy  Least busy days        Average orders         10   \n",
       "2     9.0  Regularly busy  Least busy days           Most orders         10   \n",
       "3     9.0      Least busy  Least busy days        Average orders         10   \n",
       "4     9.0      Least busy  Least busy days           Most orders         10   \n",
       "\n",
       "   loyalty_flag  average_price spending_flag  median_order_frequency  \\\n",
       "0  New customer       6.367797   Low spender                    20.5   \n",
       "1  New customer       6.367797   Low spender                    20.5   \n",
       "2  New customer       6.367797   Low spender                    20.5   \n",
       "3  New customer       6.367797   Low spender                    20.5   \n",
       "4  New customer       6.367797   Low spender                    20.5   \n",
       "\n",
       "    order_frequency_flag  gender    state  age date_joined  num_of_dependants  \\\n",
       "0  Non-frequent customer  Female  Alabama   31   2/17/2019                  3   \n",
       "1  Non-frequent customer  Female  Alabama   31   2/17/2019                  3   \n",
       "2  Non-frequent customer  Female  Alabama   31   2/17/2019                  3   \n",
       "3  Non-frequent customer  Female  Alabama   31   2/17/2019                  3   \n",
       "4  Non-frequent customer  Female  Alabama   31   2/17/2019                  3   \n",
       "\n",
       "  martital_status  income regions user_activity_flag  \n",
       "0         married   40423   South    Normal activity  \n",
       "1         married   40423   South    Normal activity  \n",
       "2         married   40423   South    Normal activity  \n",
       "3         married   40423   South    Normal activity  \n",
       "4         married   40423   South    Normal activity  "
      ]
     },
     "execution_count": 14,
     "metadata": {},
     "output_type": "execute_result"
    }
   ],
   "source": [
    "normal_active_customers_df.head()"
   ]
  },
  {
   "cell_type": "code",
   "execution_count": 15,
   "id": "3d22a170-bfac-45a6-a55f-80e65903dc79",
   "metadata": {
    "tags": []
   },
   "outputs": [
    {
     "data": {
      "text/plain": [
       "(15094953, 35)"
      ]
     },
     "execution_count": 15,
     "metadata": {},
     "output_type": "execute_result"
    }
   ],
   "source": [
    "normal_active_customers_df.shape"
   ]
  },
  {
   "cell_type": "markdown",
   "id": "5551a02b-4a2b-4e01-965a-b542f04a3cea",
   "metadata": {},
   "source": [
    "# Merging normal_active customers and departments_df"
   ]
  },
  {
   "cell_type": "code",
   "execution_count": 10,
   "id": "27027552-e913-49ab-8356-26641613837d",
   "metadata": {
    "tags": []
   },
   "outputs": [],
   "source": [
    "# Importing 'departments_wrangled' dataset\n",
    "\n",
    "departments_df= pd.read_csv(os.path.join(newpath,'departments_wrangled.csv'))"
   ]
  },
  {
   "cell_type": "code",
   "execution_count": 11,
   "id": "a6a08d46-38af-4328-96dc-223e681a2472",
   "metadata": {
    "tags": []
   },
   "outputs": [
    {
     "data": {
      "text/html": [
       "<div>\n",
       "<style scoped>\n",
       "    .dataframe tbody tr th:only-of-type {\n",
       "        vertical-align: middle;\n",
       "    }\n",
       "\n",
       "    .dataframe tbody tr th {\n",
       "        vertical-align: top;\n",
       "    }\n",
       "\n",
       "    .dataframe thead th {\n",
       "        text-align: right;\n",
       "    }\n",
       "</style>\n",
       "<table border=\"1\" class=\"dataframe\">\n",
       "  <thead>\n",
       "    <tr style=\"text-align: right;\">\n",
       "      <th></th>\n",
       "      <th>Unnamed: 0</th>\n",
       "      <th>department</th>\n",
       "    </tr>\n",
       "  </thead>\n",
       "  <tbody>\n",
       "    <tr>\n",
       "      <th>0</th>\n",
       "      <td>1</td>\n",
       "      <td>frozen</td>\n",
       "    </tr>\n",
       "    <tr>\n",
       "      <th>1</th>\n",
       "      <td>2</td>\n",
       "      <td>other</td>\n",
       "    </tr>\n",
       "    <tr>\n",
       "      <th>2</th>\n",
       "      <td>3</td>\n",
       "      <td>bakery</td>\n",
       "    </tr>\n",
       "    <tr>\n",
       "      <th>3</th>\n",
       "      <td>4</td>\n",
       "      <td>produce</td>\n",
       "    </tr>\n",
       "    <tr>\n",
       "      <th>4</th>\n",
       "      <td>5</td>\n",
       "      <td>alcohol</td>\n",
       "    </tr>\n",
       "    <tr>\n",
       "      <th>...</th>\n",
       "      <td>...</td>\n",
       "      <td>...</td>\n",
       "    </tr>\n",
       "    <tr>\n",
       "      <th>16</th>\n",
       "      <td>17</td>\n",
       "      <td>household</td>\n",
       "    </tr>\n",
       "    <tr>\n",
       "      <th>17</th>\n",
       "      <td>18</td>\n",
       "      <td>babies</td>\n",
       "    </tr>\n",
       "    <tr>\n",
       "      <th>18</th>\n",
       "      <td>19</td>\n",
       "      <td>snacks</td>\n",
       "    </tr>\n",
       "    <tr>\n",
       "      <th>19</th>\n",
       "      <td>20</td>\n",
       "      <td>deli</td>\n",
       "    </tr>\n",
       "    <tr>\n",
       "      <th>20</th>\n",
       "      <td>21</td>\n",
       "      <td>missing</td>\n",
       "    </tr>\n",
       "  </tbody>\n",
       "</table>\n",
       "<p>21 rows × 2 columns</p>\n",
       "</div>"
      ],
      "text/plain": [
       "    Unnamed: 0 department\n",
       "0            1     frozen\n",
       "1            2      other\n",
       "2            3     bakery\n",
       "3            4    produce\n",
       "4            5    alcohol\n",
       "..         ...        ...\n",
       "16          17  household\n",
       "17          18     babies\n",
       "18          19     snacks\n",
       "19          20       deli\n",
       "20          21    missing\n",
       "\n",
       "[21 rows x 2 columns]"
      ]
     },
     "execution_count": 11,
     "metadata": {},
     "output_type": "execute_result"
    }
   ],
   "source": [
    "# Check output\n",
    "departments_df"
   ]
  },
  {
   "cell_type": "code",
   "execution_count": 12,
   "id": "e515907c-9fe9-4419-a411-84f2e495d40b",
   "metadata": {
    "tags": []
   },
   "outputs": [],
   "source": [
    "# Change 'Unnamed:0' column name to 'department_id'\n",
    "departments_df.rename(columns = {'Unnamed: 0' : 'department_id'}, inplace = True)"
   ]
  },
  {
   "cell_type": "code",
   "execution_count": 13,
   "id": "9e49e894-8711-417e-8f4f-d3244e4fe097",
   "metadata": {
    "tags": []
   },
   "outputs": [
    {
     "data": {
      "text/html": [
       "<div>\n",
       "<style scoped>\n",
       "    .dataframe tbody tr th:only-of-type {\n",
       "        vertical-align: middle;\n",
       "    }\n",
       "\n",
       "    .dataframe tbody tr th {\n",
       "        vertical-align: top;\n",
       "    }\n",
       "\n",
       "    .dataframe thead th {\n",
       "        text-align: right;\n",
       "    }\n",
       "</style>\n",
       "<table border=\"1\" class=\"dataframe\">\n",
       "  <thead>\n",
       "    <tr style=\"text-align: right;\">\n",
       "      <th></th>\n",
       "      <th>department_id</th>\n",
       "      <th>department</th>\n",
       "    </tr>\n",
       "  </thead>\n",
       "  <tbody>\n",
       "    <tr>\n",
       "      <th>0</th>\n",
       "      <td>1</td>\n",
       "      <td>frozen</td>\n",
       "    </tr>\n",
       "    <tr>\n",
       "      <th>1</th>\n",
       "      <td>2</td>\n",
       "      <td>other</td>\n",
       "    </tr>\n",
       "    <tr>\n",
       "      <th>2</th>\n",
       "      <td>3</td>\n",
       "      <td>bakery</td>\n",
       "    </tr>\n",
       "    <tr>\n",
       "      <th>3</th>\n",
       "      <td>4</td>\n",
       "      <td>produce</td>\n",
       "    </tr>\n",
       "    <tr>\n",
       "      <th>4</th>\n",
       "      <td>5</td>\n",
       "      <td>alcohol</td>\n",
       "    </tr>\n",
       "  </tbody>\n",
       "</table>\n",
       "</div>"
      ],
      "text/plain": [
       "   department_id department\n",
       "0              1     frozen\n",
       "1              2      other\n",
       "2              3     bakery\n",
       "3              4    produce\n",
       "4              5    alcohol"
      ]
     },
     "execution_count": 13,
     "metadata": {},
     "output_type": "execute_result"
    }
   ],
   "source": [
    "# Check the output\n",
    "departments_df.head()"
   ]
  },
  {
   "cell_type": "code",
   "execution_count": 16,
   "id": "db7c280f-c215-4d8a-be9c-7c5f6069f835",
   "metadata": {
    "tags": []
   },
   "outputs": [],
   "source": [
    "# Merging normal activite customers and departments_df on a key column 'department_id'\n",
    "active_customers_departs = normal_active_customers_df.merge(departments_df, on = 'department_id')"
   ]
  },
  {
   "cell_type": "code",
   "execution_count": 17,
   "id": "9d9e3a3f-4db0-4d96-9a71-80c47cd9018e",
   "metadata": {
    "tags": []
   },
   "outputs": [
    {
     "data": {
      "text/html": [
       "<div>\n",
       "<style scoped>\n",
       "    .dataframe tbody tr th:only-of-type {\n",
       "        vertical-align: middle;\n",
       "    }\n",
       "\n",
       "    .dataframe tbody tr th {\n",
       "        vertical-align: top;\n",
       "    }\n",
       "\n",
       "    .dataframe thead th {\n",
       "        text-align: right;\n",
       "    }\n",
       "</style>\n",
       "<table border=\"1\" class=\"dataframe\">\n",
       "  <thead>\n",
       "    <tr style=\"text-align: right;\">\n",
       "      <th></th>\n",
       "      <th>Unnamed: 0_x</th>\n",
       "      <th>order_id</th>\n",
       "      <th>user_id</th>\n",
       "      <th>eval_set</th>\n",
       "      <th>order_number</th>\n",
       "      <th>orders_day_of_week</th>\n",
       "      <th>order_hour_of_day</th>\n",
       "      <th>days_since_prior_order</th>\n",
       "      <th>product_id</th>\n",
       "      <th>add_to_cart_order</th>\n",
       "      <th>reordered</th>\n",
       "      <th>_merge</th>\n",
       "      <th>Unnamed: 0_y</th>\n",
       "      <th>product_name</th>\n",
       "      <th>aisle_id</th>\n",
       "      <th>department_id</th>\n",
       "      <th>prices</th>\n",
       "      <th>busiest_day</th>\n",
       "      <th>busiest_days</th>\n",
       "      <th>busiest_period_of_day</th>\n",
       "      <th>max_order</th>\n",
       "      <th>loyalty_flag</th>\n",
       "      <th>average_price</th>\n",
       "      <th>spending_flag</th>\n",
       "      <th>median_order_frequency</th>\n",
       "      <th>order_frequency_flag</th>\n",
       "      <th>gender</th>\n",
       "      <th>state</th>\n",
       "      <th>age</th>\n",
       "      <th>date_joined</th>\n",
       "      <th>num_of_dependants</th>\n",
       "      <th>martital_status</th>\n",
       "      <th>income</th>\n",
       "      <th>regions</th>\n",
       "      <th>user_activity_flag</th>\n",
       "      <th>department</th>\n",
       "    </tr>\n",
       "  </thead>\n",
       "  <tbody>\n",
       "    <tr>\n",
       "      <th>0</th>\n",
       "      <td>0</td>\n",
       "      <td>2539329</td>\n",
       "      <td>1</td>\n",
       "      <td>prior</td>\n",
       "      <td>1</td>\n",
       "      <td>2</td>\n",
       "      <td>8</td>\n",
       "      <td>NaN</td>\n",
       "      <td>196</td>\n",
       "      <td>1</td>\n",
       "      <td>0</td>\n",
       "      <td>both</td>\n",
       "      <td>195</td>\n",
       "      <td>Soda</td>\n",
       "      <td>77</td>\n",
       "      <td>7</td>\n",
       "      <td>9.0</td>\n",
       "      <td>Regularly busy</td>\n",
       "      <td>Regularly busy</td>\n",
       "      <td>Average orders</td>\n",
       "      <td>10</td>\n",
       "      <td>New customer</td>\n",
       "      <td>6.367797</td>\n",
       "      <td>Low spender</td>\n",
       "      <td>20.5</td>\n",
       "      <td>Non-frequent customer</td>\n",
       "      <td>Female</td>\n",
       "      <td>Alabama</td>\n",
       "      <td>31</td>\n",
       "      <td>2/17/2019</td>\n",
       "      <td>3</td>\n",
       "      <td>married</td>\n",
       "      <td>40423</td>\n",
       "      <td>South</td>\n",
       "      <td>Normal activity</td>\n",
       "      <td>beverages</td>\n",
       "    </tr>\n",
       "    <tr>\n",
       "      <th>1</th>\n",
       "      <td>1</td>\n",
       "      <td>2398795</td>\n",
       "      <td>1</td>\n",
       "      <td>prior</td>\n",
       "      <td>2</td>\n",
       "      <td>3</td>\n",
       "      <td>7</td>\n",
       "      <td>15.0</td>\n",
       "      <td>196</td>\n",
       "      <td>1</td>\n",
       "      <td>1</td>\n",
       "      <td>both</td>\n",
       "      <td>195</td>\n",
       "      <td>Soda</td>\n",
       "      <td>77</td>\n",
       "      <td>7</td>\n",
       "      <td>9.0</td>\n",
       "      <td>Regularly busy</td>\n",
       "      <td>Least busy days</td>\n",
       "      <td>Average orders</td>\n",
       "      <td>10</td>\n",
       "      <td>New customer</td>\n",
       "      <td>6.367797</td>\n",
       "      <td>Low spender</td>\n",
       "      <td>20.5</td>\n",
       "      <td>Non-frequent customer</td>\n",
       "      <td>Female</td>\n",
       "      <td>Alabama</td>\n",
       "      <td>31</td>\n",
       "      <td>2/17/2019</td>\n",
       "      <td>3</td>\n",
       "      <td>married</td>\n",
       "      <td>40423</td>\n",
       "      <td>South</td>\n",
       "      <td>Normal activity</td>\n",
       "      <td>beverages</td>\n",
       "    </tr>\n",
       "    <tr>\n",
       "      <th>2</th>\n",
       "      <td>2</td>\n",
       "      <td>473747</td>\n",
       "      <td>1</td>\n",
       "      <td>prior</td>\n",
       "      <td>3</td>\n",
       "      <td>3</td>\n",
       "      <td>12</td>\n",
       "      <td>21.0</td>\n",
       "      <td>196</td>\n",
       "      <td>1</td>\n",
       "      <td>1</td>\n",
       "      <td>both</td>\n",
       "      <td>195</td>\n",
       "      <td>Soda</td>\n",
       "      <td>77</td>\n",
       "      <td>7</td>\n",
       "      <td>9.0</td>\n",
       "      <td>Regularly busy</td>\n",
       "      <td>Least busy days</td>\n",
       "      <td>Most orders</td>\n",
       "      <td>10</td>\n",
       "      <td>New customer</td>\n",
       "      <td>6.367797</td>\n",
       "      <td>Low spender</td>\n",
       "      <td>20.5</td>\n",
       "      <td>Non-frequent customer</td>\n",
       "      <td>Female</td>\n",
       "      <td>Alabama</td>\n",
       "      <td>31</td>\n",
       "      <td>2/17/2019</td>\n",
       "      <td>3</td>\n",
       "      <td>married</td>\n",
       "      <td>40423</td>\n",
       "      <td>South</td>\n",
       "      <td>Normal activity</td>\n",
       "      <td>beverages</td>\n",
       "    </tr>\n",
       "    <tr>\n",
       "      <th>3</th>\n",
       "      <td>3</td>\n",
       "      <td>2254736</td>\n",
       "      <td>1</td>\n",
       "      <td>prior</td>\n",
       "      <td>4</td>\n",
       "      <td>4</td>\n",
       "      <td>7</td>\n",
       "      <td>29.0</td>\n",
       "      <td>196</td>\n",
       "      <td>1</td>\n",
       "      <td>1</td>\n",
       "      <td>both</td>\n",
       "      <td>195</td>\n",
       "      <td>Soda</td>\n",
       "      <td>77</td>\n",
       "      <td>7</td>\n",
       "      <td>9.0</td>\n",
       "      <td>Least busy</td>\n",
       "      <td>Least busy days</td>\n",
       "      <td>Average orders</td>\n",
       "      <td>10</td>\n",
       "      <td>New customer</td>\n",
       "      <td>6.367797</td>\n",
       "      <td>Low spender</td>\n",
       "      <td>20.5</td>\n",
       "      <td>Non-frequent customer</td>\n",
       "      <td>Female</td>\n",
       "      <td>Alabama</td>\n",
       "      <td>31</td>\n",
       "      <td>2/17/2019</td>\n",
       "      <td>3</td>\n",
       "      <td>married</td>\n",
       "      <td>40423</td>\n",
       "      <td>South</td>\n",
       "      <td>Normal activity</td>\n",
       "      <td>beverages</td>\n",
       "    </tr>\n",
       "    <tr>\n",
       "      <th>4</th>\n",
       "      <td>4</td>\n",
       "      <td>431534</td>\n",
       "      <td>1</td>\n",
       "      <td>prior</td>\n",
       "      <td>5</td>\n",
       "      <td>4</td>\n",
       "      <td>15</td>\n",
       "      <td>28.0</td>\n",
       "      <td>196</td>\n",
       "      <td>1</td>\n",
       "      <td>1</td>\n",
       "      <td>both</td>\n",
       "      <td>195</td>\n",
       "      <td>Soda</td>\n",
       "      <td>77</td>\n",
       "      <td>7</td>\n",
       "      <td>9.0</td>\n",
       "      <td>Least busy</td>\n",
       "      <td>Least busy days</td>\n",
       "      <td>Most orders</td>\n",
       "      <td>10</td>\n",
       "      <td>New customer</td>\n",
       "      <td>6.367797</td>\n",
       "      <td>Low spender</td>\n",
       "      <td>20.5</td>\n",
       "      <td>Non-frequent customer</td>\n",
       "      <td>Female</td>\n",
       "      <td>Alabama</td>\n",
       "      <td>31</td>\n",
       "      <td>2/17/2019</td>\n",
       "      <td>3</td>\n",
       "      <td>married</td>\n",
       "      <td>40423</td>\n",
       "      <td>South</td>\n",
       "      <td>Normal activity</td>\n",
       "      <td>beverages</td>\n",
       "    </tr>\n",
       "  </tbody>\n",
       "</table>\n",
       "</div>"
      ],
      "text/plain": [
       "   Unnamed: 0_x  order_id  user_id eval_set  order_number  orders_day_of_week  \\\n",
       "0             0   2539329        1    prior             1                   2   \n",
       "1             1   2398795        1    prior             2                   3   \n",
       "2             2    473747        1    prior             3                   3   \n",
       "3             3   2254736        1    prior             4                   4   \n",
       "4             4    431534        1    prior             5                   4   \n",
       "\n",
       "   order_hour_of_day  days_since_prior_order  product_id  add_to_cart_order  \\\n",
       "0                  8                     NaN         196                  1   \n",
       "1                  7                    15.0         196                  1   \n",
       "2                 12                    21.0         196                  1   \n",
       "3                  7                    29.0         196                  1   \n",
       "4                 15                    28.0         196                  1   \n",
       "\n",
       "   reordered _merge  Unnamed: 0_y product_name  aisle_id  department_id  \\\n",
       "0          0   both           195         Soda        77              7   \n",
       "1          1   both           195         Soda        77              7   \n",
       "2          1   both           195         Soda        77              7   \n",
       "3          1   both           195         Soda        77              7   \n",
       "4          1   both           195         Soda        77              7   \n",
       "\n",
       "   prices     busiest_day     busiest_days busiest_period_of_day  max_order  \\\n",
       "0     9.0  Regularly busy   Regularly busy        Average orders         10   \n",
       "1     9.0  Regularly busy  Least busy days        Average orders         10   \n",
       "2     9.0  Regularly busy  Least busy days           Most orders         10   \n",
       "3     9.0      Least busy  Least busy days        Average orders         10   \n",
       "4     9.0      Least busy  Least busy days           Most orders         10   \n",
       "\n",
       "   loyalty_flag  average_price spending_flag  median_order_frequency  \\\n",
       "0  New customer       6.367797   Low spender                    20.5   \n",
       "1  New customer       6.367797   Low spender                    20.5   \n",
       "2  New customer       6.367797   Low spender                    20.5   \n",
       "3  New customer       6.367797   Low spender                    20.5   \n",
       "4  New customer       6.367797   Low spender                    20.5   \n",
       "\n",
       "    order_frequency_flag  gender    state  age date_joined  num_of_dependants  \\\n",
       "0  Non-frequent customer  Female  Alabama   31   2/17/2019                  3   \n",
       "1  Non-frequent customer  Female  Alabama   31   2/17/2019                  3   \n",
       "2  Non-frequent customer  Female  Alabama   31   2/17/2019                  3   \n",
       "3  Non-frequent customer  Female  Alabama   31   2/17/2019                  3   \n",
       "4  Non-frequent customer  Female  Alabama   31   2/17/2019                  3   \n",
       "\n",
       "  martital_status  income regions user_activity_flag department  \n",
       "0         married   40423   South    Normal activity  beverages  \n",
       "1         married   40423   South    Normal activity  beverages  \n",
       "2         married   40423   South    Normal activity  beverages  \n",
       "3         married   40423   South    Normal activity  beverages  \n",
       "4         married   40423   South    Normal activity  beverages  "
      ]
     },
     "execution_count": 17,
     "metadata": {},
     "output_type": "execute_result"
    }
   ],
   "source": [
    "#checking the output\n",
    "active_customers_departs.head()"
   ]
  },
  {
   "cell_type": "code",
   "execution_count": 18,
   "id": "77db3be5-bb72-4158-ad55-905febdb3c54",
   "metadata": {
    "tags": []
   },
   "outputs": [
    {
     "data": {
      "text/plain": [
       "(15094953, 36)"
      ]
     },
     "execution_count": 18,
     "metadata": {},
     "output_type": "execute_result"
    }
   ],
   "source": [
    "#checking the dimensions\n",
    "active_customers_departs.shape"
   ]
  },
  {
   "cell_type": "code",
   "execution_count": 19,
   "id": "9cb5102d-a83f-466f-ae4e-14fce67f46be",
   "metadata": {
    "tags": []
   },
   "outputs": [],
   "source": [
    "# Exporting merged dataframe as 'active_customers_departments_merged.pkl'\n",
    "active_customers_departs.to_pickle(os.path.join(newpath,'active_customers_departments_merged.pkl'))"
   ]
  },
  {
   "cell_type": "markdown",
   "id": "aa9f6d6c-80bf-4d73-8a45-5ee78a8ada16",
   "metadata": {},
   "source": [
    "# Creating Customer Profiles"
   ]
  },
  {
   "cell_type": "code",
   "execution_count": 20,
   "id": "a5e48694-5d61-44bb-b1ba-c09093a5a503",
   "metadata": {
    "tags": []
   },
   "outputs": [],
   "source": [
    "# Import 'active_customers_departments_merged.pkl'\n",
    "active_customers_departs_df= pd.read_pickle(os.path.join(newpath,'active_customers_departments_merged.pkl'))"
   ]
  },
  {
   "cell_type": "code",
   "execution_count": 21,
   "id": "42dabf52-d241-4c2c-a771-109bc7ac5ba2",
   "metadata": {
    "tags": []
   },
   "outputs": [
    {
     "data": {
      "text/html": [
       "<div>\n",
       "<style scoped>\n",
       "    .dataframe tbody tr th:only-of-type {\n",
       "        vertical-align: middle;\n",
       "    }\n",
       "\n",
       "    .dataframe tbody tr th {\n",
       "        vertical-align: top;\n",
       "    }\n",
       "\n",
       "    .dataframe thead th {\n",
       "        text-align: right;\n",
       "    }\n",
       "</style>\n",
       "<table border=\"1\" class=\"dataframe\">\n",
       "  <thead>\n",
       "    <tr style=\"text-align: right;\">\n",
       "      <th></th>\n",
       "      <th>Unnamed: 0_x</th>\n",
       "      <th>order_id</th>\n",
       "      <th>user_id</th>\n",
       "      <th>eval_set</th>\n",
       "      <th>order_number</th>\n",
       "      <th>orders_day_of_week</th>\n",
       "      <th>order_hour_of_day</th>\n",
       "      <th>days_since_prior_order</th>\n",
       "      <th>product_id</th>\n",
       "      <th>add_to_cart_order</th>\n",
       "      <th>reordered</th>\n",
       "      <th>_merge</th>\n",
       "      <th>Unnamed: 0_y</th>\n",
       "      <th>product_name</th>\n",
       "      <th>aisle_id</th>\n",
       "      <th>department_id</th>\n",
       "      <th>prices</th>\n",
       "      <th>busiest_day</th>\n",
       "      <th>busiest_days</th>\n",
       "      <th>busiest_period_of_day</th>\n",
       "      <th>max_order</th>\n",
       "      <th>loyalty_flag</th>\n",
       "      <th>average_price</th>\n",
       "      <th>spending_flag</th>\n",
       "      <th>median_order_frequency</th>\n",
       "      <th>order_frequency_flag</th>\n",
       "      <th>gender</th>\n",
       "      <th>state</th>\n",
       "      <th>age</th>\n",
       "      <th>date_joined</th>\n",
       "      <th>num_of_dependants</th>\n",
       "      <th>martital_status</th>\n",
       "      <th>income</th>\n",
       "      <th>regions</th>\n",
       "      <th>user_activity_flag</th>\n",
       "      <th>department</th>\n",
       "    </tr>\n",
       "  </thead>\n",
       "  <tbody>\n",
       "    <tr>\n",
       "      <th>0</th>\n",
       "      <td>0</td>\n",
       "      <td>2539329</td>\n",
       "      <td>1</td>\n",
       "      <td>prior</td>\n",
       "      <td>1</td>\n",
       "      <td>2</td>\n",
       "      <td>8</td>\n",
       "      <td>NaN</td>\n",
       "      <td>196</td>\n",
       "      <td>1</td>\n",
       "      <td>0</td>\n",
       "      <td>both</td>\n",
       "      <td>195</td>\n",
       "      <td>Soda</td>\n",
       "      <td>77</td>\n",
       "      <td>7</td>\n",
       "      <td>9.0</td>\n",
       "      <td>Regularly busy</td>\n",
       "      <td>Regularly busy</td>\n",
       "      <td>Average orders</td>\n",
       "      <td>10</td>\n",
       "      <td>New customer</td>\n",
       "      <td>6.367797</td>\n",
       "      <td>Low spender</td>\n",
       "      <td>20.5</td>\n",
       "      <td>Non-frequent customer</td>\n",
       "      <td>Female</td>\n",
       "      <td>Alabama</td>\n",
       "      <td>31</td>\n",
       "      <td>2/17/2019</td>\n",
       "      <td>3</td>\n",
       "      <td>married</td>\n",
       "      <td>40423</td>\n",
       "      <td>South</td>\n",
       "      <td>Normal activity</td>\n",
       "      <td>beverages</td>\n",
       "    </tr>\n",
       "    <tr>\n",
       "      <th>1</th>\n",
       "      <td>1</td>\n",
       "      <td>2398795</td>\n",
       "      <td>1</td>\n",
       "      <td>prior</td>\n",
       "      <td>2</td>\n",
       "      <td>3</td>\n",
       "      <td>7</td>\n",
       "      <td>15.0</td>\n",
       "      <td>196</td>\n",
       "      <td>1</td>\n",
       "      <td>1</td>\n",
       "      <td>both</td>\n",
       "      <td>195</td>\n",
       "      <td>Soda</td>\n",
       "      <td>77</td>\n",
       "      <td>7</td>\n",
       "      <td>9.0</td>\n",
       "      <td>Regularly busy</td>\n",
       "      <td>Least busy days</td>\n",
       "      <td>Average orders</td>\n",
       "      <td>10</td>\n",
       "      <td>New customer</td>\n",
       "      <td>6.367797</td>\n",
       "      <td>Low spender</td>\n",
       "      <td>20.5</td>\n",
       "      <td>Non-frequent customer</td>\n",
       "      <td>Female</td>\n",
       "      <td>Alabama</td>\n",
       "      <td>31</td>\n",
       "      <td>2/17/2019</td>\n",
       "      <td>3</td>\n",
       "      <td>married</td>\n",
       "      <td>40423</td>\n",
       "      <td>South</td>\n",
       "      <td>Normal activity</td>\n",
       "      <td>beverages</td>\n",
       "    </tr>\n",
       "    <tr>\n",
       "      <th>2</th>\n",
       "      <td>2</td>\n",
       "      <td>473747</td>\n",
       "      <td>1</td>\n",
       "      <td>prior</td>\n",
       "      <td>3</td>\n",
       "      <td>3</td>\n",
       "      <td>12</td>\n",
       "      <td>21.0</td>\n",
       "      <td>196</td>\n",
       "      <td>1</td>\n",
       "      <td>1</td>\n",
       "      <td>both</td>\n",
       "      <td>195</td>\n",
       "      <td>Soda</td>\n",
       "      <td>77</td>\n",
       "      <td>7</td>\n",
       "      <td>9.0</td>\n",
       "      <td>Regularly busy</td>\n",
       "      <td>Least busy days</td>\n",
       "      <td>Most orders</td>\n",
       "      <td>10</td>\n",
       "      <td>New customer</td>\n",
       "      <td>6.367797</td>\n",
       "      <td>Low spender</td>\n",
       "      <td>20.5</td>\n",
       "      <td>Non-frequent customer</td>\n",
       "      <td>Female</td>\n",
       "      <td>Alabama</td>\n",
       "      <td>31</td>\n",
       "      <td>2/17/2019</td>\n",
       "      <td>3</td>\n",
       "      <td>married</td>\n",
       "      <td>40423</td>\n",
       "      <td>South</td>\n",
       "      <td>Normal activity</td>\n",
       "      <td>beverages</td>\n",
       "    </tr>\n",
       "    <tr>\n",
       "      <th>3</th>\n",
       "      <td>3</td>\n",
       "      <td>2254736</td>\n",
       "      <td>1</td>\n",
       "      <td>prior</td>\n",
       "      <td>4</td>\n",
       "      <td>4</td>\n",
       "      <td>7</td>\n",
       "      <td>29.0</td>\n",
       "      <td>196</td>\n",
       "      <td>1</td>\n",
       "      <td>1</td>\n",
       "      <td>both</td>\n",
       "      <td>195</td>\n",
       "      <td>Soda</td>\n",
       "      <td>77</td>\n",
       "      <td>7</td>\n",
       "      <td>9.0</td>\n",
       "      <td>Least busy</td>\n",
       "      <td>Least busy days</td>\n",
       "      <td>Average orders</td>\n",
       "      <td>10</td>\n",
       "      <td>New customer</td>\n",
       "      <td>6.367797</td>\n",
       "      <td>Low spender</td>\n",
       "      <td>20.5</td>\n",
       "      <td>Non-frequent customer</td>\n",
       "      <td>Female</td>\n",
       "      <td>Alabama</td>\n",
       "      <td>31</td>\n",
       "      <td>2/17/2019</td>\n",
       "      <td>3</td>\n",
       "      <td>married</td>\n",
       "      <td>40423</td>\n",
       "      <td>South</td>\n",
       "      <td>Normal activity</td>\n",
       "      <td>beverages</td>\n",
       "    </tr>\n",
       "    <tr>\n",
       "      <th>4</th>\n",
       "      <td>4</td>\n",
       "      <td>431534</td>\n",
       "      <td>1</td>\n",
       "      <td>prior</td>\n",
       "      <td>5</td>\n",
       "      <td>4</td>\n",
       "      <td>15</td>\n",
       "      <td>28.0</td>\n",
       "      <td>196</td>\n",
       "      <td>1</td>\n",
       "      <td>1</td>\n",
       "      <td>both</td>\n",
       "      <td>195</td>\n",
       "      <td>Soda</td>\n",
       "      <td>77</td>\n",
       "      <td>7</td>\n",
       "      <td>9.0</td>\n",
       "      <td>Least busy</td>\n",
       "      <td>Least busy days</td>\n",
       "      <td>Most orders</td>\n",
       "      <td>10</td>\n",
       "      <td>New customer</td>\n",
       "      <td>6.367797</td>\n",
       "      <td>Low spender</td>\n",
       "      <td>20.5</td>\n",
       "      <td>Non-frequent customer</td>\n",
       "      <td>Female</td>\n",
       "      <td>Alabama</td>\n",
       "      <td>31</td>\n",
       "      <td>2/17/2019</td>\n",
       "      <td>3</td>\n",
       "      <td>married</td>\n",
       "      <td>40423</td>\n",
       "      <td>South</td>\n",
       "      <td>Normal activity</td>\n",
       "      <td>beverages</td>\n",
       "    </tr>\n",
       "  </tbody>\n",
       "</table>\n",
       "</div>"
      ],
      "text/plain": [
       "   Unnamed: 0_x  order_id  user_id eval_set  order_number  orders_day_of_week  \\\n",
       "0             0   2539329        1    prior             1                   2   \n",
       "1             1   2398795        1    prior             2                   3   \n",
       "2             2    473747        1    prior             3                   3   \n",
       "3             3   2254736        1    prior             4                   4   \n",
       "4             4    431534        1    prior             5                   4   \n",
       "\n",
       "   order_hour_of_day  days_since_prior_order  product_id  add_to_cart_order  \\\n",
       "0                  8                     NaN         196                  1   \n",
       "1                  7                    15.0         196                  1   \n",
       "2                 12                    21.0         196                  1   \n",
       "3                  7                    29.0         196                  1   \n",
       "4                 15                    28.0         196                  1   \n",
       "\n",
       "   reordered _merge  Unnamed: 0_y product_name  aisle_id  department_id  \\\n",
       "0          0   both           195         Soda        77              7   \n",
       "1          1   both           195         Soda        77              7   \n",
       "2          1   both           195         Soda        77              7   \n",
       "3          1   both           195         Soda        77              7   \n",
       "4          1   both           195         Soda        77              7   \n",
       "\n",
       "   prices     busiest_day     busiest_days busiest_period_of_day  max_order  \\\n",
       "0     9.0  Regularly busy   Regularly busy        Average orders         10   \n",
       "1     9.0  Regularly busy  Least busy days        Average orders         10   \n",
       "2     9.0  Regularly busy  Least busy days           Most orders         10   \n",
       "3     9.0      Least busy  Least busy days        Average orders         10   \n",
       "4     9.0      Least busy  Least busy days           Most orders         10   \n",
       "\n",
       "   loyalty_flag  average_price spending_flag  median_order_frequency  \\\n",
       "0  New customer       6.367797   Low spender                    20.5   \n",
       "1  New customer       6.367797   Low spender                    20.5   \n",
       "2  New customer       6.367797   Low spender                    20.5   \n",
       "3  New customer       6.367797   Low spender                    20.5   \n",
       "4  New customer       6.367797   Low spender                    20.5   \n",
       "\n",
       "    order_frequency_flag  gender    state  age date_joined  num_of_dependants  \\\n",
       "0  Non-frequent customer  Female  Alabama   31   2/17/2019                  3   \n",
       "1  Non-frequent customer  Female  Alabama   31   2/17/2019                  3   \n",
       "2  Non-frequent customer  Female  Alabama   31   2/17/2019                  3   \n",
       "3  Non-frequent customer  Female  Alabama   31   2/17/2019                  3   \n",
       "4  Non-frequent customer  Female  Alabama   31   2/17/2019                  3   \n",
       "\n",
       "  martital_status  income regions user_activity_flag department  \n",
       "0         married   40423   South    Normal activity  beverages  \n",
       "1         married   40423   South    Normal activity  beverages  \n",
       "2         married   40423   South    Normal activity  beverages  \n",
       "3         married   40423   South    Normal activity  beverages  \n",
       "4         married   40423   South    Normal activity  beverages  "
      ]
     },
     "execution_count": 21,
     "metadata": {},
     "output_type": "execute_result"
    }
   ],
   "source": [
    "# Check the output\n",
    "active_customers_departs_df.head()"
   ]
  },
  {
   "cell_type": "code",
   "execution_count": 22,
   "id": "ba42f6fd-65fd-4937-b8d3-84ba0b6e329d",
   "metadata": {
    "tags": []
   },
   "outputs": [
    {
     "data": {
      "text/plain": [
       "(15094953, 36)"
      ]
     },
     "execution_count": 22,
     "metadata": {},
     "output_type": "execute_result"
    }
   ],
   "source": [
    "# Check dimensions\n",
    "active_customers_departs_df.shape"
   ]
  },
  {
   "cell_type": "markdown",
   "id": "538bb043-e2cf-400e-bc4d-19c97c446205",
   "metadata": {},
   "source": [
    "# Profiles based on 'AGE'"
   ]
  },
  {
   "cell_type": "code",
   "execution_count": 23,
   "id": "0f753f5d-0c02-4e65-8e2b-43f8a09f12b7",
   "metadata": {
    "tags": []
   },
   "outputs": [
    {
     "data": {
      "text/plain": [
       "count    1.509495e+07\n",
       "mean     4.954049e+01\n",
       "std      1.848507e+01\n",
       "min      1.800000e+01\n",
       "25%      3.400000e+01\n",
       "50%      4.900000e+01\n",
       "75%      6.600000e+01\n",
       "max      8.100000e+01\n",
       "Name: age, dtype: float64"
      ]
     },
     "execution_count": 23,
     "metadata": {},
     "output_type": "execute_result"
    }
   ],
   "source": [
    "# Descriptive statistics for 'age' column \n",
    "active_customers_departs_df['age'].describe()"
   ]
  },
  {
   "cell_type": "markdown",
   "id": "b9e41d78-f6d8-4df4-b850-6b330adadd91",
   "metadata": {},
   "source": [
    "#As we can see from the above output the \n",
    "Minimum age is 18 years, \n",
    "Maximum age is 81 years, \n",
    "average age is 49 years. \n",
    "with this output, we can create age groups as follows: \n",
    "- 18-29 years old,\n",
    "- 30-49 years old,\n",
    "- 50-64 years old,\n",
    "- 65-81 years old."
   ]
  },
  {
   "cell_type": "code",
   "execution_count": 24,
   "id": "2f807c6d-d788-4962-838b-212708f93e3e",
   "metadata": {
    "tags": []
   },
   "outputs": [
    {
     "name": "stderr",
     "output_type": "stream",
     "text": [
      "/var/folders/n3/cnsw2_q5653501p8bw3zft6h0000gp/T/ipykernel_12185/3972834327.py:2: FutureWarning: Setting an item of incompatible dtype is deprecated and will raise in a future error of pandas. Value '18-29 years old' has dtype incompatible with float64, please explicitly cast to a compatible dtype first.\n",
      "  active_customers_departs_df.loc[(active_customers_departs_df['age'] >=18) & (active_customers_departs_df['age'] <30), 'age_group'] = '18-29 years old'\n"
     ]
    }
   ],
   "source": [
    "# Creating a flag for 18-29 years old\n",
    "active_customers_departs_df.loc[(active_customers_departs_df['age'] >=18) & (active_customers_departs_df['age'] <30), 'age_group'] = '18-29 years old'"
   ]
  },
  {
   "cell_type": "code",
   "execution_count": 25,
   "id": "89feaf93-0129-4916-b1c1-4073c57adc3d",
   "metadata": {
    "tags": []
   },
   "outputs": [],
   "source": [
    "# Creating a flag for 30-49 years old\n",
    "active_customers_departs_df.loc[(active_customers_departs_df['age'] >=30) & (active_customers_departs_df['age'] <50), 'age_group'] = '30-49 years old'"
   ]
  },
  {
   "cell_type": "code",
   "execution_count": 26,
   "id": "64481c49-957b-47d4-9ff3-f81196b0dd02",
   "metadata": {
    "tags": []
   },
   "outputs": [],
   "source": [
    "# Creating a flag for 50-64 years old\n",
    "active_customers_departs_df.loc[(active_customers_departs_df['age'] >=50) & (active_customers_departs_df['age'] <65), 'age_group'] = '50-64 years old'"
   ]
  },
  {
   "cell_type": "code",
   "execution_count": 27,
   "id": "9cd180ea-06c3-4275-8be2-c897361c742e",
   "metadata": {
    "tags": []
   },
   "outputs": [],
   "source": [
    "# Create a flag for 65-81 years old\n",
    "active_customers_departs_df.loc[(active_customers_departs_df['age'] >=65) & (active_customers_departs_df['age'] <=81), 'age_group'] = '65-81 years old'"
   ]
  },
  {
   "cell_type": "code",
   "execution_count": 28,
   "id": "8a4078f5-3b90-430a-bd42-70fa94af05e2",
   "metadata": {
    "tags": []
   },
   "outputs": [
    {
     "data": {
      "text/plain": [
       "age_group\n",
       "18-29 years old    2820316\n",
       "30-49 years old    4736433\n",
       "50-64 years old    3516825\n",
       "65-81 years old    4021379\n",
       "Name: count, dtype: int64"
      ]
     },
     "execution_count": 28,
     "metadata": {},
     "output_type": "execute_result"
    }
   ],
   "source": [
    "#Checking the output\n",
    "active_customers_departs_df['age_group'].value_counts().sort_index()"
   ]
  },
  {
   "cell_type": "markdown",
   "id": "b3cd8d0c-d296-46df-9429-a65d0fb04658",
   "metadata": {},
   "source": [
    "# Distribution chart for 'age_group'"
   ]
  },
  {
   "cell_type": "code",
   "execution_count": null,
   "id": "e3302b49-1ce0-4406-a0db-ae8c178b7b10",
   "metadata": {},
   "outputs": [],
   "source": [
    "#Creating distribution chart for 'age_groups'\n"
   ]
  },
  {
   "cell_type": "code",
   "execution_count": 29,
   "id": "98d4be26-b382-4ae2-a432-bceb654e2c4f",
   "metadata": {
    "tags": []
   },
   "outputs": [
    {
     "data": {
      "text/plain": [
       "(array([0, 1, 2, 3]),\n",
       " [Text(0, 0, '18-29 years old'),\n",
       "  Text(1, 0, '30-49 years old'),\n",
       "  Text(2, 0, '50-64 years old'),\n",
       "  Text(3, 0, '65-81 years old')])"
      ]
     },
     "execution_count": 29,
     "metadata": {},
     "output_type": "execute_result"
    },
    {
     "data": {
      "image/png": "[encoded data removed]",
      "text/plain": [
       "<Figure size 640x480 with 1 Axes>"
      ]
     },
     "metadata": {},
     "output_type": "display_data"
    }
   ],
   "source": [
    "bar_age_group_distrbn = active_customers_departs_df['age_group'].value_counts().sort_index().plot.bar()\n",
    "\n",
    "plt.xlabel('Age Group')\n",
    "plt.ylabel('Frequency')\n",
    "plt.title('Distributiion of Customer Age Groups')\n",
    "\n",
    "plt.xticks(rotation = 360)"
   ]
  },
  {
   "cell_type": "code",
   "execution_count": 38,
   "id": "f14a7203-4ef8-4494-a3e0-60b40058942b",
   "metadata": {
    "tags": []
   },
   "outputs": [],
   "source": [
    "# Export bar chart\n",
    "bar_age_group_distrbn.figure.savefig(os.path.join('04.Analysis', 'Visualizations', 'bar_age_group_distribution'))\n"
   ]
  },
  {
   "cell_type": "markdown",
   "id": "faef8ce9-2199-4bfd-9eb6-cf8b0517e1c3",
   "metadata": {},
   "source": [
    "# Aggregation of 'prices' and 'order_number' for age groups"
   ]
  },
  {
   "cell_type": "code",
   "execution_count": 39,
   "id": "e0fe1cc3-50c8-4f8d-9f64-ac6b1d3d9435",
   "metadata": {
    "tags": []
   },
   "outputs": [
    {
     "data": {
      "text/html": [
       "<div>\n",
       "<style scoped>\n",
       "    .dataframe tbody tr th:only-of-type {\n",
       "        vertical-align: middle;\n",
       "    }\n",
       "\n",
       "    .dataframe tbody tr th {\n",
       "        vertical-align: top;\n",
       "    }\n",
       "\n",
       "    .dataframe thead tr th {\n",
       "        text-align: left;\n",
       "    }\n",
       "\n",
       "    .dataframe thead tr:last-of-type th {\n",
       "        text-align: right;\n",
       "    }\n",
       "</style>\n",
       "<table border=\"1\" class=\"dataframe\">\n",
       "  <thead>\n",
       "    <tr>\n",
       "      <th></th>\n",
       "      <th colspan=\"3\" halign=\"left\">order_number</th>\n",
       "      <th colspan=\"3\" halign=\"left\">prices</th>\n",
       "    </tr>\n",
       "    <tr>\n",
       "      <th></th>\n",
       "      <th>mean</th>\n",
       "      <th>max</th>\n",
       "      <th>min</th>\n",
       "      <th>mean</th>\n",
       "      <th>max</th>\n",
       "      <th>min</th>\n",
       "    </tr>\n",
       "    <tr>\n",
       "      <th>age_group</th>\n",
       "      <th></th>\n",
       "      <th></th>\n",
       "      <th></th>\n",
       "      <th></th>\n",
       "      <th></th>\n",
       "      <th></th>\n",
       "    </tr>\n",
       "  </thead>\n",
       "  <tbody>\n",
       "    <tr>\n",
       "      <th>18-29 years old</th>\n",
       "      <td>17.944623</td>\n",
       "      <td>99</td>\n",
       "      <td>1</td>\n",
       "      <td>11.765285</td>\n",
       "      <td>99999.0</td>\n",
       "      <td>1.0</td>\n",
       "    </tr>\n",
       "    <tr>\n",
       "      <th>30-49 years old</th>\n",
       "      <td>17.873452</td>\n",
       "      <td>99</td>\n",
       "      <td>1</td>\n",
       "      <td>11.247938</td>\n",
       "      <td>99999.0</td>\n",
       "      <td>1.0</td>\n",
       "    </tr>\n",
       "    <tr>\n",
       "      <th>50-64 years old</th>\n",
       "      <td>17.809453</td>\n",
       "      <td>99</td>\n",
       "      <td>1</td>\n",
       "      <td>11.076499</td>\n",
       "      <td>99999.0</td>\n",
       "      <td>1.0</td>\n",
       "    </tr>\n",
       "    <tr>\n",
       "      <th>65-81 years old</th>\n",
       "      <td>17.858813</td>\n",
       "      <td>99</td>\n",
       "      <td>1</td>\n",
       "      <td>11.463197</td>\n",
       "      <td>99999.0</td>\n",
       "      <td>1.0</td>\n",
       "    </tr>\n",
       "  </tbody>\n",
       "</table>\n",
       "</div>"
      ],
      "text/plain": [
       "                order_number             prices              \n",
       "                        mean max min       mean      max  min\n",
       "age_group                                                    \n",
       "18-29 years old    17.944623  99   1  11.765285  99999.0  1.0\n",
       "30-49 years old    17.873452  99   1  11.247938  99999.0  1.0\n",
       "50-64 years old    17.809453  99   1  11.076499  99999.0  1.0\n",
       "65-81 years old    17.858813  99   1  11.463197  99999.0  1.0"
      ]
     },
     "execution_count": 39,
     "metadata": {},
     "output_type": "execute_result"
    }
   ],
   "source": [
    "# Aggregating 'order_number' and 'prices' for age groups\n",
    "active_customers_departs_df.groupby('age_group').agg({'order_number': ['mean','max','min'], 'prices': ['mean','max','min']})"
   ]
  },
  {
   "cell_type": "markdown",
   "id": "9da2cdf5-b866-4df1-8c88-8c55cbd63a5b",
   "metadata": {},
   "source": [
    "# Profiles based on 'Income'"
   ]
  },
  {
   "cell_type": "code",
   "execution_count": 40,
   "id": "06971504-f70c-4c30-9654-3f3668bf9ed0",
   "metadata": {
    "tags": []
   },
   "outputs": [
    {
     "data": {
      "text/plain": [
       "count    1.509495e+07\n",
       "mean     9.958040e+04\n",
       "std      4.335246e+04\n",
       "min      2.599100e+04\n",
       "25%      6.719800e+04\n",
       "50%      9.674100e+04\n",
       "75%      1.279260e+05\n",
       "max      5.939010e+05\n",
       "Name: income, dtype: float64"
      ]
     },
     "execution_count": 40,
     "metadata": {},
     "output_type": "execute_result"
    }
   ],
   "source": [
    "# Descriptive statistics for 'age' column \n",
    "active_customers_departs_df['income'].describe()"
   ]
  },
  {
   "cell_type": "markdown",
   "id": "5e55edc2-cc32-4e20-a477-c08a83b56f30",
   "metadata": {},
   "source": [
    "--- Mean = 99,655, \n",
    "    Min = 25,903, \n",
    "    Max = 593,901. \n",
    "Income can be divided into the following categories:\n",
    "     - low = <65,000,\n",
    "     - medium = 65,001-145,000, \n",
    "     - high = 145,001+"
   ]
  },
  {
   "cell_type": "code",
   "execution_count": 41,
   "id": "3094191a-709f-41b8-8f7f-babf88498808",
   "metadata": {
    "tags": []
   },
   "outputs": [
    {
     "name": "stderr",
     "output_type": "stream",
     "text": [
      "/var/folders/n3/cnsw2_q5653501p8bw3zft6h0000gp/T/ipykernel_12185/2336374064.py:2: FutureWarning: Setting an item of incompatible dtype is deprecated and will raise in a future error of pandas. Value 'Low income' has dtype incompatible with float64, please explicitly cast to a compatible dtype first.\n",
      "  active_customers_departs_df.loc[active_customers_departs_df['income'] <= 65000, 'income_group'] = 'Low income'\n"
     ]
    }
   ],
   "source": [
    "# Creating low income flag\n",
    "active_customers_departs_df.loc[active_customers_departs_df['income'] <= 65000, 'income_group'] = 'Low income'"
   ]
  },
  {
   "cell_type": "code",
   "execution_count": 43,
   "id": "07498722-8c31-45c5-a3a5-83976375d22e",
   "metadata": {
    "tags": []
   },
   "outputs": [],
   "source": [
    "# Creating medium income flag\n",
    "active_customers_departs_df.loc[(active_customers_departs_df['income'] > 65000) & (active_customers_departs_df['income'] <= 145000), 'income_group'] = 'Medium income'"
   ]
  },
  {
   "cell_type": "code",
   "execution_count": 44,
   "id": "14d9a1b2-e9b2-4f84-a69d-bcb5a9810274",
   "metadata": {
    "tags": []
   },
   "outputs": [],
   "source": [
    "# Creating low income flag\n",
    "active_customers_departs_df.loc[active_customers_departs_df['income'] > 145000, 'income_group'] = 'High income'"
   ]
  },
  {
   "cell_type": "code",
   "execution_count": 45,
   "id": "536ca2d8-7d52-4039-af9b-0e143342e9cf",
   "metadata": {
    "tags": []
   },
   "outputs": [
    {
     "data": {
      "text/plain": [
       "income_group\n",
       "Medium income    9256022\n",
       "Low income       3490999\n",
       "High income      2347932\n",
       "Name: count, dtype: int64"
      ]
     },
     "execution_count": 45,
     "metadata": {},
     "output_type": "execute_result"
    }
   ],
   "source": [
    "# Checking the output\n",
    "active_customers_departs_df['income_group'].value_counts()"
   ]
  },
  {
   "cell_type": "markdown",
   "id": "df6b0215-e9c1-4ee9-8477-f3da438ea242",
   "metadata": {},
   "source": [
    "# Distribution chart for 'income_group'"
   ]
  },
  {
   "cell_type": "code",
   "execution_count": 46,
   "id": "ad525134-c477-4c67-b330-dcb6fc361735",
   "metadata": {
    "tags": []
   },
   "outputs": [
    {
     "data": {
      "text/plain": [
       "(array([0, 1, 2]),\n",
       " [Text(0, 0, 'Medium income'),\n",
       "  Text(1, 0, 'Low income'),\n",
       "  Text(2, 0, 'High income')])"
      ]
     },
     "execution_count": 46,
     "metadata": {},
     "output_type": "execute_result"
    },
    {
     "data": {
      "image/png": "[encoded data removed]",
      "text/plain": [
       "<Figure size 640x480 with 1 Axes>"
      ]
     },
     "metadata": {},
     "output_type": "display_data"
    }
   ],
   "source": [
    "# Create distribution chart for 'income_group'\n",
    "bar_income_group_distr_df = active_customers_departs_df['income_group'].value_counts().plot.bar()\n",
    "\n",
    "plt.xlabel('Income Group')\n",
    "plt.ylabel('Frequency')\n",
    "plt.title('Distributiion of Customer Income Groups')\n",
    "\n",
    "plt.xticks(rotation = 360)"
   ]
  },
  {
   "cell_type": "code",
   "execution_count": 47,
   "id": "a84f3bd2-0993-47b0-83a3-438f80893df3",
   "metadata": {
    "tags": []
   },
   "outputs": [],
   "source": [
    "# Export bar chart\n",
    "bar_income_group_distr_df.figure.savefig(os.path.join('04.Analysis', 'Visualizations', 'bar_income_group_distribution.png'))\n"
   ]
  },
  {
   "cell_type": "markdown",
   "id": "dc5a3270-0db9-42e3-9147-57006a481b07",
   "metadata": {},
   "source": [
    "# Aggregate Prices and orders for income_groups"
   ]
  },
  {
   "cell_type": "code",
   "execution_count": 48,
   "id": "9c935739-c8ee-4443-b0cd-79baba5e318f",
   "metadata": {
    "tags": []
   },
   "outputs": [
    {
     "data": {
      "text/html": [
       "<div>\n",
       "<style scoped>\n",
       "    .dataframe tbody tr th:only-of-type {\n",
       "        vertical-align: middle;\n",
       "    }\n",
       "\n",
       "    .dataframe tbody tr th {\n",
       "        vertical-align: top;\n",
       "    }\n",
       "\n",
       "    .dataframe thead tr th {\n",
       "        text-align: left;\n",
       "    }\n",
       "\n",
       "    .dataframe thead tr:last-of-type th {\n",
       "        text-align: right;\n",
       "    }\n",
       "</style>\n",
       "<table border=\"1\" class=\"dataframe\">\n",
       "  <thead>\n",
       "    <tr>\n",
       "      <th></th>\n",
       "      <th colspan=\"3\" halign=\"left\">order_number</th>\n",
       "      <th colspan=\"3\" halign=\"left\">prices</th>\n",
       "    </tr>\n",
       "    <tr>\n",
       "      <th></th>\n",
       "      <th>mean</th>\n",
       "      <th>max</th>\n",
       "      <th>min</th>\n",
       "      <th>mean</th>\n",
       "      <th>max</th>\n",
       "      <th>min</th>\n",
       "    </tr>\n",
       "    <tr>\n",
       "      <th>income_group</th>\n",
       "      <th></th>\n",
       "      <th></th>\n",
       "      <th></th>\n",
       "      <th></th>\n",
       "      <th></th>\n",
       "      <th></th>\n",
       "    </tr>\n",
       "  </thead>\n",
       "  <tbody>\n",
       "    <tr>\n",
       "      <th>High income</th>\n",
       "      <td>17.993330</td>\n",
       "      <td>99</td>\n",
       "      <td>1</td>\n",
       "      <td>26.149188</td>\n",
       "      <td>99999.0</td>\n",
       "      <td>1.0</td>\n",
       "    </tr>\n",
       "    <tr>\n",
       "      <th>Low income</th>\n",
       "      <td>17.545395</td>\n",
       "      <td>99</td>\n",
       "      <td>1</td>\n",
       "      <td>7.253349</td>\n",
       "      <td>14900.0</td>\n",
       "      <td>1.0</td>\n",
       "    </tr>\n",
       "    <tr>\n",
       "      <th>Medium income</th>\n",
       "      <td>17.957782</td>\n",
       "      <td>99</td>\n",
       "      <td>1</td>\n",
       "      <td>9.160625</td>\n",
       "      <td>99999.0</td>\n",
       "      <td>1.0</td>\n",
       "    </tr>\n",
       "  </tbody>\n",
       "</table>\n",
       "</div>"
      ],
      "text/plain": [
       "              order_number             prices              \n",
       "                      mean max min       mean      max  min\n",
       "income_group                                               \n",
       "High income      17.993330  99   1  26.149188  99999.0  1.0\n",
       "Low income       17.545395  99   1   7.253349  14900.0  1.0\n",
       "Medium income    17.957782  99   1   9.160625  99999.0  1.0"
      ]
     },
     "execution_count": 48,
     "metadata": {},
     "output_type": "execute_result"
    }
   ],
   "source": [
    "# Aggregating 'order_number' and 'prices' for income groups\n",
    "active_customers_departs_df.groupby('income_group').agg({'order_number': ['mean','max','min'], 'prices': ['mean','max','min']})"
   ]
  },
  {
   "cell_type": "markdown",
   "id": "0357d752-4354-421e-9634-527363387c9b",
   "metadata": {
    "tags": []
   },
   "source": [
    "# Profiles based on Family status and Number of dependants"
   ]
  },
  {
   "cell_type": "code",
   "execution_count": 51,
   "id": "d6ba630e-d228-49dc-ba66-91bf1381a315",
   "metadata": {
    "tags": []
   },
   "outputs": [
    {
     "data": {
      "text/plain": [
       "martital_status\n",
       "married                             10620723\n",
       "single                               2476959\n",
       "divorced/widowed                     1279109\n",
       "living with parents and siblings      718162\n",
       "Name: count, dtype: int64"
      ]
     },
     "execution_count": 51,
     "metadata": {},
     "output_type": "execute_result"
    }
   ],
   "source": [
    "# Frequency table for 'fam_status' column \n",
    "active_customers_departs_df['martital_status'].value_counts()"
   ]
  },
  {
   "cell_type": "code",
   "execution_count": 52,
   "id": "35a65a62-9206-4707-a204-bfd8c5dc42a7",
   "metadata": {
    "tags": []
   },
   "outputs": [
    {
     "data": {
      "text/plain": [
       "num_of_dependants\n",
       "0    3756068\n",
       "1    3747561\n",
       "2    3793754\n",
       "3    3797570\n",
       "Name: count, dtype: int64"
      ]
     },
     "execution_count": 52,
     "metadata": {},
     "output_type": "execute_result"
    }
   ],
   "source": [
    "# Frequency table for 'n_dependants' column \n",
    "active_customers_departs_df['num_of_dependants'].value_counts().sort_index()"
   ]
  },
  {
   "cell_type": "code",
   "execution_count": 53,
   "id": "5d5fa5d1-1160-4d17-97f2-3c32e2ef4a7d",
   "metadata": {
    "tags": []
   },
   "outputs": [],
   "source": [
    "# Creating a crosstab between 'martital_status' and 'num_of_dependants'\n",
    "cross_family_dependant = pd.crosstab(active_customers_departs_df['martital_status'], active_customers_departs['num_of_dependants'], dropna = False)"
   ]
  },
  {
   "cell_type": "code",
   "execution_count": 54,
   "id": "c865b93b-757b-430d-8e2b-53cb9e3405b6",
   "metadata": {
    "tags": []
   },
   "outputs": [
    {
     "data": {
      "text/html": [
       "<div>\n",
       "<style scoped>\n",
       "    .dataframe tbody tr th:only-of-type {\n",
       "        vertical-align: middle;\n",
       "    }\n",
       "\n",
       "    .dataframe tbody tr th {\n",
       "        vertical-align: top;\n",
       "    }\n",
       "\n",
       "    .dataframe thead th {\n",
       "        text-align: right;\n",
       "    }\n",
       "</style>\n",
       "<table border=\"1\" class=\"dataframe\">\n",
       "  <thead>\n",
       "    <tr style=\"text-align: right;\">\n",
       "      <th>num_of_dependants</th>\n",
       "      <th>0</th>\n",
       "      <th>1</th>\n",
       "      <th>2</th>\n",
       "      <th>3</th>\n",
       "    </tr>\n",
       "    <tr>\n",
       "      <th>martital_status</th>\n",
       "      <th></th>\n",
       "      <th></th>\n",
       "      <th></th>\n",
       "      <th></th>\n",
       "    </tr>\n",
       "  </thead>\n",
       "  <tbody>\n",
       "    <tr>\n",
       "      <th>divorced/widowed</th>\n",
       "      <td>1279109</td>\n",
       "      <td>0</td>\n",
       "      <td>0</td>\n",
       "      <td>0</td>\n",
       "    </tr>\n",
       "    <tr>\n",
       "      <th>living with parents and siblings</th>\n",
       "      <td>0</td>\n",
       "      <td>251675</td>\n",
       "      <td>229380</td>\n",
       "      <td>237107</td>\n",
       "    </tr>\n",
       "    <tr>\n",
       "      <th>married</th>\n",
       "      <td>0</td>\n",
       "      <td>3495886</td>\n",
       "      <td>3564374</td>\n",
       "      <td>3560463</td>\n",
       "    </tr>\n",
       "    <tr>\n",
       "      <th>single</th>\n",
       "      <td>2476959</td>\n",
       "      <td>0</td>\n",
       "      <td>0</td>\n",
       "      <td>0</td>\n",
       "    </tr>\n",
       "  </tbody>\n",
       "</table>\n",
       "</div>"
      ],
      "text/plain": [
       "num_of_dependants                       0        1        2        3\n",
       "martital_status                                                     \n",
       "divorced/widowed                  1279109        0        0        0\n",
       "living with parents and siblings        0   251675   229380   237107\n",
       "married                                 0  3495886  3564374  3560463\n",
       "single                            2476959        0        0        0"
      ]
     },
     "execution_count": 54,
     "metadata": {},
     "output_type": "execute_result"
    }
   ],
   "source": [
    "# Checking the output\n",
    "cross_family_dependant"
   ]
  },
  {
   "cell_type": "markdown",
   "id": "58f938a1-1555-4c44-9240-e1e3c13fdeb1",
   "metadata": {},
   "source": [
    "##Based on above output of family status and number of dependants,groups created are as follows:\n",
    "- single without dependants (divorced/widowed and single with 0 dependants)\n",
    "- single with dependants (living with parents and siblings with 1/2/3 dependants)\n",
    "- married with dependants (married with 1/2/3 dependants)"
   ]
  },
  {
   "cell_type": "code",
   "execution_count": 55,
   "id": "72649c7b-aba7-4a82-bb38-3e9d700e7760",
   "metadata": {
    "tags": []
   },
   "outputs": [
    {
     "name": "stderr",
     "output_type": "stream",
     "text": [
      "/var/folders/n3/cnsw2_q5653501p8bw3zft6h0000gp/T/ipykernel_12185/3332339531.py:3: FutureWarning: Setting an item of incompatible dtype is deprecated and will raise in a future error of pandas. Value 'Single without dependants' has dtype incompatible with float64, please explicitly cast to a compatible dtype first.\n",
      "  active_customers_departs_df.loc[active_customers_departs_df['martital_status'].isin(['divorced/widowed','single']), 'marital_dependant_group'] = 'Single without dependants'\n"
     ]
    }
   ],
   "source": [
    "# Creating 'single without dependants' flag\n",
    "# Create 'single without dependants' flag\n",
    "active_customers_departs_df.loc[active_customers_departs_df['martital_status'].isin(['divorced/widowed','single']), 'marital_dependant_group'] = 'Single without dependants'"
   ]
  },
  {
   "cell_type": "code",
   "execution_count": 57,
   "id": "f189d74a-f6f6-43cc-85a0-59ffce27a25b",
   "metadata": {
    "tags": []
   },
   "outputs": [],
   "source": [
    "# Creating 'single with dependants' flag\n",
    "active_customers_departs_df.loc[active_customers_departs_df['martital_status'] == 'living with parents and siblings', 'marital_dependant_group'] = 'Single with dependants'"
   ]
  },
  {
   "cell_type": "code",
   "execution_count": 58,
   "id": "05331e4c-add5-44ea-a962-ee533a49b85e",
   "metadata": {
    "tags": []
   },
   "outputs": [],
   "source": [
    "# Creating 'married with dependants' flag\n",
    "active_customers_departs_df.loc[active_customers_departs_df['martital_status'] == 'married', 'marital_dependant_group'] = 'Married with dependants'"
   ]
  },
  {
   "cell_type": "code",
   "execution_count": 59,
   "id": "7e119fe3-e3dc-4c1f-984e-b27c47652a26",
   "metadata": {
    "tags": []
   },
   "outputs": [
    {
     "data": {
      "text/plain": [
       "marital_dependant_group\n",
       "Married with dependants      10620723\n",
       "Single without dependants     3756068\n",
       "Single with dependants         718162\n",
       "Name: count, dtype: int64"
      ]
     },
     "execution_count": 59,
     "metadata": {},
     "output_type": "execute_result"
    }
   ],
   "source": [
    "# Checking the output\n",
    "active_customers_departs_df['marital_dependant_group'].value_counts()"
   ]
  },
  {
   "cell_type": "markdown",
   "id": "f2545906-0b04-488d-a811-981fe52bfd6b",
   "metadata": {
    "tags": []
   },
   "source": [
    "# Distribution chart for 'marital_dependant_group'"
   ]
  },
  {
   "cell_type": "code",
   "execution_count": 61,
   "id": "43e724e1-214f-47b9-97b4-2ca101520dfe",
   "metadata": {
    "tags": []
   },
   "outputs": [
    {
     "data": {
      "text/plain": [
       "(array([       0.,  2000000.,  4000000.,  6000000.,  8000000., 10000000.,\n",
       "        12000000.]),\n",
       " [Text(0.0, 0, '0.0'),\n",
       "  Text(2000000.0, 0, '0.2'),\n",
       "  Text(4000000.0, 0, '0.4'),\n",
       "  Text(6000000.0, 0, '0.6'),\n",
       "  Text(8000000.0, 0, '0.8'),\n",
       "  Text(10000000.0, 0, '1.0'),\n",
       "  Text(12000000.0, 0, '1.2')])"
      ]
     },
     "execution_count": 61,
     "metadata": {},
     "output_type": "execute_result"
    },
    {
     "data": {
      "image/png": "[encoded data removed]",
      "text/plain": [
       "<Figure size 640x480 with 1 Axes>"
      ]
     },
     "metadata": {},
     "output_type": "display_data"
    }
   ],
   "source": [
    "# Creating distribution chart for 'martial_dependant_group'\n",
    "bar_marital_dep_group_distr = active_customers_departs_df['marital_dependant_group'].value_counts().sort_values().plot.barh()\n",
    "\n",
    "plt.ylabel('Family Status Group')\n",
    "plt.xlabel('Frequency')\n",
    "plt.title('Distributiion of Customer Family Status Groups')\n",
    "\n",
    "plt.xticks(rotation = 360)"
   ]
  },
  {
   "cell_type": "code",
   "execution_count": 63,
   "id": "2b9bb142-13de-42b3-9735-a22ac1774bd0",
   "metadata": {
    "tags": []
   },
   "outputs": [],
   "source": [
    "#Exporting bar chart\n",
    "bar_marital_dep_group_distr.figure.savefig(os.path.join('04.Analysis', 'Visualizations', 'bar_marital_dep_group_distr.png'))\n"
   ]
  },
  {
   "cell_type": "markdown",
   "id": "2a762893-ce2b-4573-8977-e14e7a29feb2",
   "metadata": {},
   "source": [
    "# Aggregate prices and order numbers for marital and dependant groups"
   ]
  },
  {
   "cell_type": "code",
   "execution_count": 64,
   "id": "05937e0d-5932-44d5-9d1c-659f38ceba3a",
   "metadata": {
    "tags": []
   },
   "outputs": [
    {
     "data": {
      "text/html": [
       "<div>\n",
       "<style scoped>\n",
       "    .dataframe tbody tr th:only-of-type {\n",
       "        vertical-align: middle;\n",
       "    }\n",
       "\n",
       "    .dataframe tbody tr th {\n",
       "        vertical-align: top;\n",
       "    }\n",
       "\n",
       "    .dataframe thead tr th {\n",
       "        text-align: left;\n",
       "    }\n",
       "\n",
       "    .dataframe thead tr:last-of-type th {\n",
       "        text-align: right;\n",
       "    }\n",
       "</style>\n",
       "<table border=\"1\" class=\"dataframe\">\n",
       "  <thead>\n",
       "    <tr>\n",
       "      <th></th>\n",
       "      <th colspan=\"3\" halign=\"left\">order_number</th>\n",
       "      <th colspan=\"3\" halign=\"left\">prices</th>\n",
       "    </tr>\n",
       "    <tr>\n",
       "      <th></th>\n",
       "      <th>mean</th>\n",
       "      <th>max</th>\n",
       "      <th>min</th>\n",
       "      <th>mean</th>\n",
       "      <th>max</th>\n",
       "      <th>min</th>\n",
       "    </tr>\n",
       "    <tr>\n",
       "      <th>marital_dependant_group</th>\n",
       "      <th></th>\n",
       "      <th></th>\n",
       "      <th></th>\n",
       "      <th></th>\n",
       "      <th></th>\n",
       "      <th></th>\n",
       "    </tr>\n",
       "  </thead>\n",
       "  <tbody>\n",
       "    <tr>\n",
       "      <th>Married with dependants</th>\n",
       "      <td>17.838153</td>\n",
       "      <td>99</td>\n",
       "      <td>1</td>\n",
       "      <td>11.367474</td>\n",
       "      <td>99999.0</td>\n",
       "      <td>1.0</td>\n",
       "    </tr>\n",
       "    <tr>\n",
       "      <th>Single with dependants</th>\n",
       "      <td>18.172259</td>\n",
       "      <td>99</td>\n",
       "      <td>1</td>\n",
       "      <td>10.565909</td>\n",
       "      <td>99999.0</td>\n",
       "      <td>1.0</td>\n",
       "    </tr>\n",
       "    <tr>\n",
       "      <th>Single without dependants</th>\n",
       "      <td>17.893976</td>\n",
       "      <td>99</td>\n",
       "      <td>1</td>\n",
       "      <td>11.498744</td>\n",
       "      <td>99999.0</td>\n",
       "      <td>1.0</td>\n",
       "    </tr>\n",
       "  </tbody>\n",
       "</table>\n",
       "</div>"
      ],
      "text/plain": [
       "                          order_number             prices              \n",
       "                                  mean max min       mean      max  min\n",
       "marital_dependant_group                                                \n",
       "Married with dependants      17.838153  99   1  11.367474  99999.0  1.0\n",
       "Single with dependants       18.172259  99   1  10.565909  99999.0  1.0\n",
       "Single without dependants    17.893976  99   1  11.498744  99999.0  1.0"
      ]
     },
     "execution_count": 64,
     "metadata": {},
     "output_type": "execute_result"
    }
   ],
   "source": [
    "# Aggregate 'order_number' and 'prices' for marital_dependant_group\n",
    "active_customers_departs_df.groupby('marital_dependant_group').agg({'order_number': ['mean','max','min'], 'prices': ['mean','max','min']})"
   ]
  },
  {
   "cell_type": "markdown",
   "id": "8638cf6c-9d6e-48ec-b6e8-41d55f6e7cb8",
   "metadata": {},
   "source": [
    "# Profile Based on Department"
   ]
  },
  {
   "cell_type": "code",
   "execution_count": 65,
   "id": "9c4ccf21-53bf-401f-a9cb-c78112418f07",
   "metadata": {
    "tags": []
   },
   "outputs": [
    {
     "data": {
      "text/plain": [
       "department\n",
       "produce       4429946\n",
       "dairy eggs    2522991\n",
       "snacks        1345048\n",
       "beverages     1250576\n",
       "frozen        1032797\n",
       "               ...   \n",
       "alcohol         69214\n",
       "pets            44049\n",
       "missing         31618\n",
       "other           16598\n",
       "bulk            16225\n",
       "Name: count, Length: 21, dtype: int64"
      ]
     },
     "execution_count": 65,
     "metadata": {},
     "output_type": "execute_result"
    }
   ],
   "source": [
    " #Frequency of products purchased by department\n",
    "active_customers_departs_df['department'].value_counts()"
   ]
  },
  {
   "cell_type": "markdown",
   "id": "c0ed6761-1534-43f4-b059-008fa36ce6ab",
   "metadata": {},
   "source": [
    "# Distribution chart for 'department'"
   ]
  },
  {
   "cell_type": "code",
   "execution_count": 66,
   "id": "1ce4c35b-5b85-4000-b8f4-64899b4ad092",
   "metadata": {
    "tags": []
   },
   "outputs": [
    {
     "data": {
      "text/plain": [
       "Text(0.5, 1.0, 'Total Number of Products Purchased per Department')"
      ]
     },
     "execution_count": 66,
     "metadata": {},
     "output_type": "execute_result"
    },
    {
     "data": {
      "image/png": "[encoded data removed]",
      "text/plain": [
       "<Figure size 640x480 with 1 Axes>"
      ]
     },
     "metadata": {},
     "output_type": "display_data"
    }
   ],
   "source": [
    "# Create bar chart to show amount of products purchased per department\n",
    "bar_department_ords = active_customers_departs_df['department'].value_counts().sort_values().plot.barh()\n",
    "\n",
    "plt.ylabel('Department')\n",
    "plt.xlabel('Number of Products Purchased, in Millions')\n",
    "plt.title('Total Number of Products Purchased per Department')"
   ]
  },
  {
   "cell_type": "code",
   "execution_count": 67,
   "id": "449b068c-c9ae-468e-814e-33f857d7ff76",
   "metadata": {
    "tags": []
   },
   "outputs": [],
   "source": [
    "#Exporting bar chart\n",
    "bar_department_ords.figure.savefig(os.path.join('04.Analysis', 'Visualizations', 'bar_department_ords.png'))\n"
   ]
  },
  {
   "cell_type": "code",
   "execution_count": 68,
   "id": "51d31f8a-acc0-4c49-aa09-5b0fed5d15c8",
   "metadata": {
    "tags": []
   },
   "outputs": [
    {
     "data": {
      "text/plain": [
       "department\n",
       "dairy eggs    74927162.5\n",
       "produce       35347844.1\n",
       "beverages      9596923.0\n",
       "frozen         7993713.1\n",
       "pantry         6963190.3\n",
       "                 ...    \n",
       "alcohol         565886.2\n",
       "pets            346640.8\n",
       "missing         272445.4\n",
       "bulk            135533.5\n",
       "other           115549.6\n",
       "Name: prices, Length: 21, dtype: float64"
      ]
     },
     "execution_count": 68,
     "metadata": {},
     "output_type": "execute_result"
    }
   ],
   "source": [
    "# Checking income per department\n",
    "active_customers_departs_df.groupby('department').prices.sum().sort_values(ascending = False)"
   ]
  },
  {
   "cell_type": "code",
   "execution_count": 69,
   "id": "3fa545dc-b79f-425f-95a0-dfb3782a9f05",
   "metadata": {
    "tags": []
   },
   "outputs": [
    {
     "data": {
      "text/plain": [
       "Text(0.5, 1.0, 'Total Income by Department')"
      ]
     },
     "execution_count": 69,
     "metadata": {},
     "output_type": "execute_result"
    },
    {
     "data": {
      "image/png": "[encoded data removed]",
      "text/plain": [
       "<Figure size 640x480 with 1 Axes>"
      ]
     },
     "metadata": {},
     "output_type": "display_data"
    }
   ],
   "source": [
    "# Creating bar chart to show income per department\n",
    "bar_depart_income = active_customers_departs_df.groupby('department').prices.sum().sort_values(ascending = True).plot(kind = 'barh', color = 'tab:green')\n",
    "\n",
    "plt.ylabel('Department')\n",
    "plt.xlabel('Income, in 10 Millions')\n",
    "plt.title('Total Income by Department')\n"
   ]
  },
  {
   "cell_type": "code",
   "execution_count": 70,
   "id": "cfeeea24-0260-4e9c-b2c0-45d1ea09c8e0",
   "metadata": {
    "tags": []
   },
   "outputs": [],
   "source": [
    "#Exporting bar chart\n",
    "bar_depart_income.figure.savefig(os.path.join('04.Analysis', 'Visualizations', 'bar_depart_income.png'))\n"
   ]
  },
  {
   "cell_type": "code",
   "execution_count": 72,
   "id": "1aa18426-e5d3-4051-a601-1283a8ff227f",
   "metadata": {
    "tags": []
   },
   "outputs": [
    {
     "data": {
      "text/plain": [
       "Text(0.5, 1.0, 'Average Prices by Department')"
      ]
     },
     "execution_count": 72,
     "metadata": {},
     "output_type": "execute_result"
    },
    {
     "data": {
      "image/png": "[encoded data removed]",
      "text/plain": [
       "<Figure size 640x480 with 1 Axes>"
      ]
     },
     "metadata": {},
     "output_type": "display_data"
    }
   ],
   "source": [
    "# Create bar chart to show avg prices per department\n",
    "bar_depart_avg_price = active_customers_departs_df.groupby('department').prices.mean().sort_values(ascending = True).plot(kind = 'barh', color = 'tab:green')\n",
    "\n",
    "plt.ylabel('Department')\n",
    "plt.xlabel('Average Price')\n",
    "plt.title('Average Prices by Department')"
   ]
  },
  {
   "cell_type": "code",
   "execution_count": 73,
   "id": "2a84cbd8-8298-40ce-b744-588022440d63",
   "metadata": {
    "tags": []
   },
   "outputs": [],
   "source": [
    "#Exporting bar chart\n",
    "bar_depart_avg_price.figure.savefig(os.path.join('04.Analysis', 'Visualizations', 'bar_depart_avg_price.png'))\n"
   ]
  },
  {
   "cell_type": "markdown",
   "id": "46a8e0d6-eafd-4787-94a9-307f456aa818",
   "metadata": {
    "tags": []
   },
   "source": [
    "# Aggregate prices and orders number for department"
   ]
  },
  {
   "cell_type": "code",
   "execution_count": 76,
   "id": "7c50589f-049b-4e0e-9b61-a77f6e208ded",
   "metadata": {
    "tags": []
   },
   "outputs": [
    {
     "data": {
      "text/html": [
       "<div>\n",
       "<style scoped>\n",
       "    .dataframe tbody tr th:only-of-type {\n",
       "        vertical-align: middle;\n",
       "    }\n",
       "\n",
       "    .dataframe tbody tr th {\n",
       "        vertical-align: top;\n",
       "    }\n",
       "\n",
       "    .dataframe thead tr th {\n",
       "        text-align: left;\n",
       "    }\n",
       "\n",
       "    .dataframe thead tr:last-of-type th {\n",
       "        text-align: right;\n",
       "    }\n",
       "</style>\n",
       "<table border=\"1\" class=\"dataframe\">\n",
       "  <thead>\n",
       "    <tr>\n",
       "      <th></th>\n",
       "      <th colspan=\"3\" halign=\"left\">order_number</th>\n",
       "      <th colspan=\"3\" halign=\"left\">prices</th>\n",
       "    </tr>\n",
       "    <tr>\n",
       "      <th></th>\n",
       "      <th>mean</th>\n",
       "      <th>max</th>\n",
       "      <th>min</th>\n",
       "      <th>mean</th>\n",
       "      <th>max</th>\n",
       "      <th>min</th>\n",
       "    </tr>\n",
       "    <tr>\n",
       "      <th>department</th>\n",
       "      <th></th>\n",
       "      <th></th>\n",
       "      <th></th>\n",
       "      <th></th>\n",
       "      <th></th>\n",
       "      <th></th>\n",
       "    </tr>\n",
       "  </thead>\n",
       "  <tbody>\n",
       "    <tr>\n",
       "      <th>alcohol</th>\n",
       "      <td>16.051998</td>\n",
       "      <td>99</td>\n",
       "      <td>1</td>\n",
       "      <td>8.175892</td>\n",
       "      <td>15.0</td>\n",
       "      <td>1.0</td>\n",
       "    </tr>\n",
       "    <tr>\n",
       "      <th>babies</th>\n",
       "      <td>20.001347</td>\n",
       "      <td>99</td>\n",
       "      <td>1</td>\n",
       "      <td>7.663371</td>\n",
       "      <td>15.0</td>\n",
       "      <td>1.0</td>\n",
       "    </tr>\n",
       "    <tr>\n",
       "      <th>bakery</th>\n",
       "      <td>17.952939</td>\n",
       "      <td>99</td>\n",
       "      <td>1</td>\n",
       "      <td>7.856796</td>\n",
       "      <td>15.0</td>\n",
       "      <td>1.0</td>\n",
       "    </tr>\n",
       "    <tr>\n",
       "      <th>beverages</th>\n",
       "      <td>17.947543</td>\n",
       "      <td>99</td>\n",
       "      <td>1</td>\n",
       "      <td>7.674002</td>\n",
       "      <td>15.0</td>\n",
       "      <td>1.0</td>\n",
       "    </tr>\n",
       "    <tr>\n",
       "      <th>breakfast</th>\n",
       "      <td>17.496368</td>\n",
       "      <td>99</td>\n",
       "      <td>1</td>\n",
       "      <td>8.033070</td>\n",
       "      <td>14.9</td>\n",
       "      <td>1.0</td>\n",
       "    </tr>\n",
       "    <tr>\n",
       "      <th>...</th>\n",
       "      <td>...</td>\n",
       "      <td>...</td>\n",
       "      <td>...</td>\n",
       "      <td>...</td>\n",
       "      <td>...</td>\n",
       "      <td>...</td>\n",
       "    </tr>\n",
       "    <tr>\n",
       "      <th>pantry</th>\n",
       "      <td>17.448075</td>\n",
       "      <td>99</td>\n",
       "      <td>1</td>\n",
       "      <td>8.014943</td>\n",
       "      <td>20.0</td>\n",
       "      <td>1.0</td>\n",
       "    </tr>\n",
       "    <tr>\n",
       "      <th>personal care</th>\n",
       "      <td>17.127050</td>\n",
       "      <td>99</td>\n",
       "      <td>1</td>\n",
       "      <td>8.001862</td>\n",
       "      <td>15.0</td>\n",
       "      <td>1.0</td>\n",
       "    </tr>\n",
       "    <tr>\n",
       "      <th>pets</th>\n",
       "      <td>15.754274</td>\n",
       "      <td>99</td>\n",
       "      <td>1</td>\n",
       "      <td>7.869436</td>\n",
       "      <td>15.0</td>\n",
       "      <td>1.0</td>\n",
       "    </tr>\n",
       "    <tr>\n",
       "      <th>produce</th>\n",
       "      <td>18.493827</td>\n",
       "      <td>99</td>\n",
       "      <td>1</td>\n",
       "      <td>7.979295</td>\n",
       "      <td>15.0</td>\n",
       "      <td>1.0</td>\n",
       "    </tr>\n",
       "    <tr>\n",
       "      <th>snacks</th>\n",
       "      <td>17.838068</td>\n",
       "      <td>99</td>\n",
       "      <td>1</td>\n",
       "      <td>4.269917</td>\n",
       "      <td>7.0</td>\n",
       "      <td>1.6</td>\n",
       "    </tr>\n",
       "  </tbody>\n",
       "</table>\n",
       "<p>21 rows × 6 columns</p>\n",
       "</div>"
      ],
      "text/plain": [
       "              order_number            prices           \n",
       "                      mean max min      mean   max  min\n",
       "department                                             \n",
       "alcohol          16.051998  99   1  8.175892  15.0  1.0\n",
       "babies           20.001347  99   1  7.663371  15.0  1.0\n",
       "bakery           17.952939  99   1  7.856796  15.0  1.0\n",
       "beverages        17.947543  99   1  7.674002  15.0  1.0\n",
       "breakfast        17.496368  99   1  8.033070  14.9  1.0\n",
       "...                    ...  ..  ..       ...   ...  ...\n",
       "pantry           17.448075  99   1  8.014943  20.0  1.0\n",
       "personal care    17.127050  99   1  8.001862  15.0  1.0\n",
       "pets             15.754274  99   1  7.869436  15.0  1.0\n",
       "produce          18.493827  99   1  7.979295  15.0  1.0\n",
       "snacks           17.838068  99   1  4.269917   7.0  1.6\n",
       "\n",
       "[21 rows x 6 columns]"
      ]
     },
     "execution_count": 76,
     "metadata": {},
     "output_type": "execute_result"
    }
   ],
   "source": [
    "# Aggregating 'order_number' and 'prices' for departments\n",
    "active_customers_departs_df.groupby('department').agg({'order_number': ['mean','max','min'], 'prices': ['mean','max','min']})"
   ]
  },
  {
   "cell_type": "markdown",
   "id": "47ce2d26-a1e5-4e69-a665-58dab292d2df",
   "metadata": {},
   "source": [
    "# Create Crosstabs and visualizations"
   ]
  },
  {
   "cell_type": "code",
   "execution_count": 77,
   "id": "b211b336-0d78-453e-92e3-e5e14ca5cf02",
   "metadata": {
    "tags": []
   },
   "outputs": [],
   "source": [
    "# Creating a crosstab between 'age_group' and 'department'\n",
    "cross_age_department = pd.crosstab(active_customers_departs_df['department'], active_customers_departs_df['age_group'].sort_values(), dropna = False)"
   ]
  },
  {
   "cell_type": "code",
   "execution_count": 78,
   "id": "4e2d148a-fbf0-485c-b19c-583b78986063",
   "metadata": {
    "tags": []
   },
   "outputs": [
    {
     "data": {
      "text/html": [
       "<div>\n",
       "<style scoped>\n",
       "    .dataframe tbody tr th:only-of-type {\n",
       "        vertical-align: middle;\n",
       "    }\n",
       "\n",
       "    .dataframe tbody tr th {\n",
       "        vertical-align: top;\n",
       "    }\n",
       "\n",
       "    .dataframe thead th {\n",
       "        text-align: right;\n",
       "    }\n",
       "</style>\n",
       "<table border=\"1\" class=\"dataframe\">\n",
       "  <thead>\n",
       "    <tr style=\"text-align: right;\">\n",
       "      <th>age_group</th>\n",
       "      <th>18-29 years old</th>\n",
       "      <th>30-49 years old</th>\n",
       "      <th>50-64 years old</th>\n",
       "      <th>65-81 years old</th>\n",
       "    </tr>\n",
       "    <tr>\n",
       "      <th>department</th>\n",
       "      <th></th>\n",
       "      <th></th>\n",
       "      <th></th>\n",
       "      <th></th>\n",
       "    </tr>\n",
       "  </thead>\n",
       "  <tbody>\n",
       "    <tr>\n",
       "      <th>alcohol</th>\n",
       "      <td>13921</td>\n",
       "      <td>22393</td>\n",
       "      <td>16548</td>\n",
       "      <td>16352</td>\n",
       "    </tr>\n",
       "    <tr>\n",
       "      <th>babies</th>\n",
       "      <td>39060</td>\n",
       "      <td>63358</td>\n",
       "      <td>45112</td>\n",
       "      <td>52247</td>\n",
       "    </tr>\n",
       "    <tr>\n",
       "      <th>bakery</th>\n",
       "      <td>101747</td>\n",
       "      <td>173664</td>\n",
       "      <td>126667</td>\n",
       "      <td>146364</td>\n",
       "    </tr>\n",
       "    <tr>\n",
       "      <th>beverages</th>\n",
       "      <td>230466</td>\n",
       "      <td>390628</td>\n",
       "      <td>294223</td>\n",
       "      <td>335259</td>\n",
       "    </tr>\n",
       "    <tr>\n",
       "      <th>breakfast</th>\n",
       "      <td>62270</td>\n",
       "      <td>103495</td>\n",
       "      <td>76576</td>\n",
       "      <td>85023</td>\n",
       "    </tr>\n",
       "    <tr>\n",
       "      <th>...</th>\n",
       "      <td>...</td>\n",
       "      <td>...</td>\n",
       "      <td>...</td>\n",
       "      <td>...</td>\n",
       "    </tr>\n",
       "    <tr>\n",
       "      <th>pantry</th>\n",
       "      <td>162018</td>\n",
       "      <td>271611</td>\n",
       "      <td>204484</td>\n",
       "      <td>230663</td>\n",
       "    </tr>\n",
       "    <tr>\n",
       "      <th>personal care</th>\n",
       "      <td>38615</td>\n",
       "      <td>65288</td>\n",
       "      <td>48683</td>\n",
       "      <td>54584</td>\n",
       "    </tr>\n",
       "    <tr>\n",
       "      <th>pets</th>\n",
       "      <td>8860</td>\n",
       "      <td>13839</td>\n",
       "      <td>9462</td>\n",
       "      <td>11888</td>\n",
       "    </tr>\n",
       "    <tr>\n",
       "      <th>produce</th>\n",
       "      <td>824563</td>\n",
       "      <td>1389784</td>\n",
       "      <td>1031950</td>\n",
       "      <td>1183649</td>\n",
       "    </tr>\n",
       "    <tr>\n",
       "      <th>snacks</th>\n",
       "      <td>252017</td>\n",
       "      <td>422301</td>\n",
       "      <td>313220</td>\n",
       "      <td>357510</td>\n",
       "    </tr>\n",
       "  </tbody>\n",
       "</table>\n",
       "<p>21 rows × 4 columns</p>\n",
       "</div>"
      ],
      "text/plain": [
       "age_group      18-29 years old  30-49 years old  50-64 years old  \\\n",
       "department                                                         \n",
       "alcohol                  13921            22393            16548   \n",
       "babies                   39060            63358            45112   \n",
       "bakery                  101747           173664           126667   \n",
       "beverages               230466           390628           294223   \n",
       "breakfast                62270           103495            76576   \n",
       "...                        ...              ...              ...   \n",
       "pantry                  162018           271611           204484   \n",
       "personal care            38615            65288            48683   \n",
       "pets                      8860            13839             9462   \n",
       "produce                 824563          1389784          1031950   \n",
       "snacks                  252017           422301           313220   \n",
       "\n",
       "age_group      65-81 years old  \n",
       "department                      \n",
       "alcohol                  16352  \n",
       "babies                   52247  \n",
       "bakery                  146364  \n",
       "beverages               335259  \n",
       "breakfast                85023  \n",
       "...                        ...  \n",
       "pantry                  230663  \n",
       "personal care            54584  \n",
       "pets                     11888  \n",
       "produce                1183649  \n",
       "snacks                  357510  \n",
       "\n",
       "[21 rows x 4 columns]"
      ]
     },
     "execution_count": 78,
     "metadata": {},
     "output_type": "execute_result"
    }
   ],
   "source": [
    "# Checking the output\n",
    "cross_age_department"
   ]
  },
  {
   "cell_type": "code",
   "execution_count": 84,
   "id": "9994b6ad-f354-4bce-a061-4184ac9c1358",
   "metadata": {
    "tags": []
   },
   "outputs": [
    {
     "data": {
      "text/plain": [
       "<matplotlib.legend.Legend at 0x30e66ea90>"
      ]
     },
     "execution_count": 84,
     "metadata": {},
     "output_type": "execute_result"
    },
    {
     "data": {
      "image/png": "[encoded data removed]",
      "text/plain": [
       "<Figure size 640x480 with 1 Axes>"
      ]
     },
     "metadata": {},
     "output_type": "display_data"
    }
   ],
   "source": [
    "# Creating a stacked bar chart for age_group by department\n",
    "\n",
    "bar_age_group_dep = cross_age_department.sort_values(by='30-49 years old', ascending=True).plot(kind='barh', stacked=True, color = ['tab:orange', 'tab:green', 'red', 'indigo'])\n",
    "plt.xlabel('Frequency')\n",
    "plt.ylabel('Department')\n",
    "plt.title('Customer Age Groups by Department')\n",
    "plt.legend(loc='center left', bbox_to_anchor=(1.0, 0.5), title = 'Age Group')"
   ]
  },
  {
   "cell_type": "code",
   "execution_count": 85,
   "id": "e4991e83-2deb-4670-92a9-664720a07b23",
   "metadata": {
    "tags": []
   },
   "outputs": [],
   "source": [
    "#Exporting bar chart\n",
    "bar_age_group_dep.figure.savefig(os.path.join('04.Analysis', 'Visualizations', 'bar_age_group_dep.png'))\n"
   ]
  },
  {
   "cell_type": "markdown",
   "id": "b260585a-84c2-41ce-8c25-551005315e2a",
   "metadata": {},
   "source": [
    "# Create a cross between 'income_group' and 'department'"
   ]
  },
  {
   "cell_type": "code",
   "execution_count": 86,
   "id": "61525431-d9e5-47cf-bccd-0b078d5b9a86",
   "metadata": {
    "tags": []
   },
   "outputs": [],
   "source": [
    "# Creating a crosstab between 'income_group' and 'department'\n",
    "cross_income_department = pd.crosstab(active_customers_departs_df['department'], active_customers_departs_df['income_group'].sort_values(), dropna = False)"
   ]
  },
  {
   "cell_type": "code",
   "execution_count": 87,
   "id": "9b03c592-3c7d-4e3f-b5cb-4b9cfdd7d8d2",
   "metadata": {
    "tags": []
   },
   "outputs": [
    {
     "data": {
      "text/html": [
       "<div>\n",
       "<style scoped>\n",
       "    .dataframe tbody tr th:only-of-type {\n",
       "        vertical-align: middle;\n",
       "    }\n",
       "\n",
       "    .dataframe tbody tr th {\n",
       "        vertical-align: top;\n",
       "    }\n",
       "\n",
       "    .dataframe thead th {\n",
       "        text-align: right;\n",
       "    }\n",
       "</style>\n",
       "<table border=\"1\" class=\"dataframe\">\n",
       "  <thead>\n",
       "    <tr style=\"text-align: right;\">\n",
       "      <th>income_group</th>\n",
       "      <th>High income</th>\n",
       "      <th>Low income</th>\n",
       "      <th>Medium income</th>\n",
       "    </tr>\n",
       "    <tr>\n",
       "      <th>department</th>\n",
       "      <th></th>\n",
       "      <th></th>\n",
       "      <th></th>\n",
       "    </tr>\n",
       "  </thead>\n",
       "  <tbody>\n",
       "    <tr>\n",
       "      <th>alcohol</th>\n",
       "      <td>13886</td>\n",
       "      <td>15916</td>\n",
       "      <td>39412</td>\n",
       "    </tr>\n",
       "    <tr>\n",
       "      <th>babies</th>\n",
       "      <td>32544</td>\n",
       "      <td>36953</td>\n",
       "      <td>130280</td>\n",
       "    </tr>\n",
       "    <tr>\n",
       "      <th>bakery</th>\n",
       "      <td>89149</td>\n",
       "      <td>119775</td>\n",
       "      <td>339518</td>\n",
       "    </tr>\n",
       "    <tr>\n",
       "      <th>beverages</th>\n",
       "      <td>187658</td>\n",
       "      <td>337399</td>\n",
       "      <td>725519</td>\n",
       "    </tr>\n",
       "    <tr>\n",
       "      <th>breakfast</th>\n",
       "      <td>50605</td>\n",
       "      <td>85362</td>\n",
       "      <td>191397</td>\n",
       "    </tr>\n",
       "    <tr>\n",
       "      <th>...</th>\n",
       "      <td>...</td>\n",
       "      <td>...</td>\n",
       "      <td>...</td>\n",
       "    </tr>\n",
       "    <tr>\n",
       "      <th>pantry</th>\n",
       "      <td>140338</td>\n",
       "      <td>188320</td>\n",
       "      <td>540118</td>\n",
       "    </tr>\n",
       "    <tr>\n",
       "      <th>personal care</th>\n",
       "      <td>32275</td>\n",
       "      <td>48263</td>\n",
       "      <td>126632</td>\n",
       "    </tr>\n",
       "    <tr>\n",
       "      <th>pets</th>\n",
       "      <td>7764</td>\n",
       "      <td>9707</td>\n",
       "      <td>26578</td>\n",
       "    </tr>\n",
       "    <tr>\n",
       "      <th>produce</th>\n",
       "      <td>686879</td>\n",
       "      <td>953698</td>\n",
       "      <td>2789369</td>\n",
       "    </tr>\n",
       "    <tr>\n",
       "      <th>snacks</th>\n",
       "      <td>183962</td>\n",
       "      <td>439935</td>\n",
       "      <td>721151</td>\n",
       "    </tr>\n",
       "  </tbody>\n",
       "</table>\n",
       "<p>21 rows × 3 columns</p>\n",
       "</div>"
      ],
      "text/plain": [
       "income_group   High income  Low income  Medium income\n",
       "department                                           \n",
       "alcohol              13886       15916          39412\n",
       "babies               32544       36953         130280\n",
       "bakery               89149      119775         339518\n",
       "beverages           187658      337399         725519\n",
       "breakfast            50605       85362         191397\n",
       "...                    ...         ...            ...\n",
       "pantry              140338      188320         540118\n",
       "personal care        32275       48263         126632\n",
       "pets                  7764        9707          26578\n",
       "produce             686879      953698        2789369\n",
       "snacks              183962      439935         721151\n",
       "\n",
       "[21 rows x 3 columns]"
      ]
     },
     "execution_count": 87,
     "metadata": {},
     "output_type": "execute_result"
    }
   ],
   "source": [
    "# Checking the output\n",
    "cross_income_department"
   ]
  },
  {
   "cell_type": "code",
   "execution_count": 93,
   "id": "86dc9ac2-cde4-4c06-a168-a5004a08b9d8",
   "metadata": {
    "tags": []
   },
   "outputs": [
    {
     "data": {
      "text/plain": [
       "<matplotlib.legend.Legend at 0x30d82c110>"
      ]
     },
     "execution_count": 93,
     "metadata": {},
     "output_type": "execute_result"
    },
    {
     "data": {
      "image/png": "[encoded data removed]",
      "text/plain": [
       "<Figure size 640x480 with 1 Axes>"
      ]
     },
     "metadata": {},
     "output_type": "display_data"
    }
   ],
   "source": [
    "# Create stacked bar chart for income_group by department\n",
    "bar_income_group_dep = cross_income_department.sort_values(by='Medium income', ascending=True).plot(kind='barh', stacked=True, color = ['orchid', 'thistle', 'lightsteelblue'])\n",
    "plt.xlabel('Frequency')\n",
    "plt.ylabel('Department')\n",
    "plt.title('Income Groups by Department')\n",
    "plt.legend(loc='center left', bbox_to_anchor=(1.0, 0.5), title = 'Income Group')"
   ]
  },
  {
   "cell_type": "code",
   "execution_count": 94,
   "id": "4ae366f3-9c3a-4a8a-9e49-b1332118c396",
   "metadata": {
    "tags": []
   },
   "outputs": [],
   "source": [
    "#Exporting bar chart\n",
    "bar_income_group_dep.figure.savefig(os.path.join('04.Analysis', 'Visualizations', 'bar_income_group_dep.png'))\n"
   ]
  },
  {
   "cell_type": "markdown",
   "id": "416d45a9-bc93-4b70-ba1e-80986c729d9c",
   "metadata": {},
   "source": [
    "# Create a crosstab between 'marital_dependant_group' and 'department'"
   ]
  },
  {
   "cell_type": "code",
   "execution_count": 95,
   "id": "4c04f4be-62c8-4b65-88cc-7ba018628758",
   "metadata": {
    "tags": []
   },
   "outputs": [],
   "source": [
    "# Creating a crosstab between 'marital_dependant_group' and 'department'\n",
    "cross_marital_department = pd.crosstab(active_customers_departs_df['department'], active_customers_departs_df['marital_dependant_group'].sort_values(), dropna = False)"
   ]
  },
  {
   "cell_type": "code",
   "execution_count": 96,
   "id": "7f4ab3ec-83ec-4e27-8537-baa5e40a00e6",
   "metadata": {
    "tags": []
   },
   "outputs": [
    {
     "data": {
      "text/html": [
       "<div>\n",
       "<style scoped>\n",
       "    .dataframe tbody tr th:only-of-type {\n",
       "        vertical-align: middle;\n",
       "    }\n",
       "\n",
       "    .dataframe tbody tr th {\n",
       "        vertical-align: top;\n",
       "    }\n",
       "\n",
       "    .dataframe thead th {\n",
       "        text-align: right;\n",
       "    }\n",
       "</style>\n",
       "<table border=\"1\" class=\"dataframe\">\n",
       "  <thead>\n",
       "    <tr style=\"text-align: right;\">\n",
       "      <th>marital_dependant_group</th>\n",
       "      <th>Married with dependants</th>\n",
       "      <th>Single with dependants</th>\n",
       "      <th>Single without dependants</th>\n",
       "    </tr>\n",
       "    <tr>\n",
       "      <th>department</th>\n",
       "      <th></th>\n",
       "      <th></th>\n",
       "      <th></th>\n",
       "    </tr>\n",
       "  </thead>\n",
       "  <tbody>\n",
       "    <tr>\n",
       "      <th>alcohol</th>\n",
       "      <td>47409</td>\n",
       "      <td>4397</td>\n",
       "      <td>17408</td>\n",
       "    </tr>\n",
       "    <tr>\n",
       "      <th>babies</th>\n",
       "      <td>139995</td>\n",
       "      <td>10027</td>\n",
       "      <td>49755</td>\n",
       "    </tr>\n",
       "    <tr>\n",
       "      <th>bakery</th>\n",
       "      <td>385385</td>\n",
       "      <td>25592</td>\n",
       "      <td>137465</td>\n",
       "    </tr>\n",
       "    <tr>\n",
       "      <th>beverages</th>\n",
       "      <td>882664</td>\n",
       "      <td>56047</td>\n",
       "      <td>311865</td>\n",
       "    </tr>\n",
       "    <tr>\n",
       "      <th>breakfast</th>\n",
       "      <td>231023</td>\n",
       "      <td>16133</td>\n",
       "      <td>80208</td>\n",
       "    </tr>\n",
       "    <tr>\n",
       "      <th>...</th>\n",
       "      <td>...</td>\n",
       "      <td>...</td>\n",
       "      <td>...</td>\n",
       "    </tr>\n",
       "    <tr>\n",
       "      <th>pantry</th>\n",
       "      <td>610741</td>\n",
       "      <td>41607</td>\n",
       "      <td>216428</td>\n",
       "    </tr>\n",
       "    <tr>\n",
       "      <th>personal care</th>\n",
       "      <td>145814</td>\n",
       "      <td>9579</td>\n",
       "      <td>51777</td>\n",
       "    </tr>\n",
       "    <tr>\n",
       "      <th>pets</th>\n",
       "      <td>30981</td>\n",
       "      <td>2241</td>\n",
       "      <td>10827</td>\n",
       "    </tr>\n",
       "    <tr>\n",
       "      <th>produce</th>\n",
       "      <td>3108889</td>\n",
       "      <td>211244</td>\n",
       "      <td>1109813</td>\n",
       "    </tr>\n",
       "    <tr>\n",
       "      <th>snacks</th>\n",
       "      <td>949355</td>\n",
       "      <td>63217</td>\n",
       "      <td>332476</td>\n",
       "    </tr>\n",
       "  </tbody>\n",
       "</table>\n",
       "<p>21 rows × 3 columns</p>\n",
       "</div>"
      ],
      "text/plain": [
       "marital_dependant_group  Married with dependants  Single with dependants  \\\n",
       "department                                                                 \n",
       "alcohol                                    47409                    4397   \n",
       "babies                                    139995                   10027   \n",
       "bakery                                    385385                   25592   \n",
       "beverages                                 882664                   56047   \n",
       "breakfast                                 231023                   16133   \n",
       "...                                          ...                     ...   \n",
       "pantry                                    610741                   41607   \n",
       "personal care                             145814                    9579   \n",
       "pets                                       30981                    2241   \n",
       "produce                                  3108889                  211244   \n",
       "snacks                                    949355                   63217   \n",
       "\n",
       "marital_dependant_group  Single without dependants  \n",
       "department                                          \n",
       "alcohol                                      17408  \n",
       "babies                                       49755  \n",
       "bakery                                      137465  \n",
       "beverages                                   311865  \n",
       "breakfast                                    80208  \n",
       "...                                            ...  \n",
       "pantry                                      216428  \n",
       "personal care                                51777  \n",
       "pets                                         10827  \n",
       "produce                                    1109813  \n",
       "snacks                                      332476  \n",
       "\n",
       "[21 rows x 3 columns]"
      ]
     },
     "execution_count": 96,
     "metadata": {},
     "output_type": "execute_result"
    }
   ],
   "source": [
    "# Checking the output\n",
    "cross_marital_department"
   ]
  },
  {
   "cell_type": "code",
   "execution_count": 98,
   "id": "399fcdd3-7e41-4727-b19f-f2511be4300e",
   "metadata": {
    "tags": []
   },
   "outputs": [
    {
     "data": {
      "text/plain": [
       "<matplotlib.legend.Legend at 0x30c89dfd0>"
      ]
     },
     "execution_count": 98,
     "metadata": {},
     "output_type": "execute_result"
    },
    {
     "data": {
      "image/png": "[encoded data removed]",
      "text/plain": [
       "<Figure size 640x480 with 1 Axes>"
      ]
     },
     "metadata": {},
     "output_type": "display_data"
    }
   ],
   "source": [
    "# Create stacked bar chart for marital_dependant_group by department\n",
    "bar_marital_group_dep = cross_marital_department.sort_values(by='Married with dependants', ascending=True).plot(kind='barh', stacked=True, color = ['tab:orange', 'tab:red', 'tab:green'])\n",
    "plt.xlabel('Frequency')\n",
    "plt.ylabel('Department')\n",
    "plt.title('Customer Family Status by Department')\n",
    "plt.legend(loc='center left', bbox_to_anchor=(1.0, 0.5), title = 'Family Status')"
   ]
  },
  {
   "cell_type": "code",
   "execution_count": 99,
   "id": "12a70f4a-8ec4-4e32-bcd7-508fe0789132",
   "metadata": {
    "tags": []
   },
   "outputs": [],
   "source": [
    "#Exporting bar chart\n",
    "bar_marital_group_dep.figure.savefig(os.path.join('04.Analysis', 'Visualizations', 'bar_marital_group_dep.png'))"
   ]
  },
  {
   "cell_type": "markdown",
   "id": "1ed7a87e-bf33-4918-864b-8c19662288db",
   "metadata": {},
   "source": [
    "# Create a crosstab between 'age_group' and 'regions'\n"
   ]
  },
  {
   "cell_type": "code",
   "execution_count": 100,
   "id": "f977b95f-21a1-4ba7-a307-91c8f210b7f1",
   "metadata": {
    "tags": []
   },
   "outputs": [],
   "source": [
    "# Creating a crosstab between 'age_group' and 'regions'\n",
    "cross_age_region = pd.crosstab(active_customers_departs_df['regions'], active_customers_departs_df['age_group'].sort_values(), dropna = False)"
   ]
  },
  {
   "cell_type": "code",
   "execution_count": 101,
   "id": "1d9e0d0a-78fe-4caa-ac79-091e94a4e09d",
   "metadata": {
    "tags": []
   },
   "outputs": [
    {
     "data": {
      "text/html": [
       "<div>\n",
       "<style scoped>\n",
       "    .dataframe tbody tr th:only-of-type {\n",
       "        vertical-align: middle;\n",
       "    }\n",
       "\n",
       "    .dataframe tbody tr th {\n",
       "        vertical-align: top;\n",
       "    }\n",
       "\n",
       "    .dataframe thead th {\n",
       "        text-align: right;\n",
       "    }\n",
       "</style>\n",
       "<table border=\"1\" class=\"dataframe\">\n",
       "  <thead>\n",
       "    <tr style=\"text-align: right;\">\n",
       "      <th>age_group</th>\n",
       "      <th>18-29 years old</th>\n",
       "      <th>30-49 years old</th>\n",
       "      <th>50-64 years old</th>\n",
       "      <th>65-81 years old</th>\n",
       "    </tr>\n",
       "    <tr>\n",
       "      <th>regions</th>\n",
       "      <th></th>\n",
       "      <th></th>\n",
       "      <th></th>\n",
       "      <th></th>\n",
       "    </tr>\n",
       "  </thead>\n",
       "  <tbody>\n",
       "    <tr>\n",
       "      <th>Midwest</th>\n",
       "      <td>644676</td>\n",
       "      <td>1138569</td>\n",
       "      <td>828363</td>\n",
       "      <td>929177</td>\n",
       "    </tr>\n",
       "    <tr>\n",
       "      <th>Northeast</th>\n",
       "      <td>501476</td>\n",
       "      <td>854266</td>\n",
       "      <td>599245</td>\n",
       "      <td>730521</td>\n",
       "    </tr>\n",
       "    <tr>\n",
       "      <th>South</th>\n",
       "      <td>1243668</td>\n",
       "      <td>2018370</td>\n",
       "      <td>1539152</td>\n",
       "      <td>1746761</td>\n",
       "    </tr>\n",
       "    <tr>\n",
       "      <th>West</th>\n",
       "      <td>430496</td>\n",
       "      <td>725228</td>\n",
       "      <td>550065</td>\n",
       "      <td>614920</td>\n",
       "    </tr>\n",
       "  </tbody>\n",
       "</table>\n",
       "</div>"
      ],
      "text/plain": [
       "age_group  18-29 years old  30-49 years old  50-64 years old  65-81 years old\n",
       "regions                                                                      \n",
       "Midwest             644676          1138569           828363           929177\n",
       "Northeast           501476           854266           599245           730521\n",
       "South              1243668          2018370          1539152          1746761\n",
       "West                430496           725228           550065           614920"
      ]
     },
     "execution_count": 101,
     "metadata": {},
     "output_type": "execute_result"
    }
   ],
   "source": [
    "# Checking the output\n",
    "cross_age_region"
   ]
  },
  {
   "cell_type": "code",
   "execution_count": 108,
   "id": "9d2b25a1-fd9a-4557-9a41-376429e2f1aa",
   "metadata": {
    "tags": []
   },
   "outputs": [
    {
     "data": {
      "text/plain": [
       "(array([0, 1, 2, 3]),\n",
       " [Text(0, 0, 'South'),\n",
       "  Text(1, 0, 'Midwest'),\n",
       "  Text(2, 0, 'Northeast'),\n",
       "  Text(3, 0, 'West')])"
      ]
     },
     "execution_count": 108,
     "metadata": {},
     "output_type": "execute_result"
    },
    {
     "data": {
      "image/png": "[encoded data removed]",
      "text/plain": [
       "<Figure size 640x480 with 1 Axes>"
      ]
     },
     "metadata": {},
     "output_type": "display_data"
    }
   ],
   "source": [
    "# Create stacked bar chart for age_group by region\n",
    "bar_age_group_reg = cross_age_region.sort_values(by='30-49 years old', ascending=False).plot(kind='bar', stacked=True, color = ['tab:blue', 'tab:green', 'red', 'goldenrod'])\n",
    "\n",
    "plt.ylabel('Frequency')\n",
    "plt.xlabel('Regions')\n",
    "plt.title('Customer Age Groups by Region')\n",
    "plt.legend(loc='center left', bbox_to_anchor=(1.0, 0.5), title = 'Age Group')\n",
    "\n",
    "plt.xticks(rotation = 360)"
   ]
  },
  {
   "cell_type": "code",
   "execution_count": 109,
   "id": "b979581e-edb6-4e96-b146-4eac386e63cb",
   "metadata": {
    "tags": []
   },
   "outputs": [],
   "source": [
    "#Exporting bar chart\n",
    "bar_age_group_reg.figure.savefig(os.path.join('04.Analysis', 'Visualizations', 'bar_age_group_reg.png'))"
   ]
  },
  {
   "cell_type": "markdown",
   "id": "8259dd83-0be7-476f-968d-4e05479eafa9",
   "metadata": {},
   "source": [
    "# Create a crosstab between 'income_group' and 'regions'\n"
   ]
  },
  {
   "cell_type": "code",
   "execution_count": 110,
   "id": "bf8888ed-5cf2-4e63-9593-b74a49537d70",
   "metadata": {
    "tags": []
   },
   "outputs": [],
   "source": [
    "#Create a crosstab between 'income_group' and 'regions'\n",
    "cross_income_reg = pd.crosstab(active_customers_departs_df['regions'], active_customers_departs_df['income_group'].sort_values(), dropna = False)"
   ]
  },
  {
   "cell_type": "code",
   "execution_count": 111,
   "id": "fdb6c185-be7a-484b-87d1-64aa742c4b52",
   "metadata": {
    "tags": []
   },
   "outputs": [
    {
     "data": {
      "text/html": [
       "<div>\n",
       "<style scoped>\n",
       "    .dataframe tbody tr th:only-of-type {\n",
       "        vertical-align: middle;\n",
       "    }\n",
       "\n",
       "    .dataframe tbody tr th {\n",
       "        vertical-align: top;\n",
       "    }\n",
       "\n",
       "    .dataframe thead th {\n",
       "        text-align: right;\n",
       "    }\n",
       "</style>\n",
       "<table border=\"1\" class=\"dataframe\">\n",
       "  <thead>\n",
       "    <tr style=\"text-align: right;\">\n",
       "      <th>income_group</th>\n",
       "      <th>High income</th>\n",
       "      <th>Low income</th>\n",
       "      <th>Medium income</th>\n",
       "    </tr>\n",
       "    <tr>\n",
       "      <th>regions</th>\n",
       "      <th></th>\n",
       "      <th></th>\n",
       "      <th></th>\n",
       "    </tr>\n",
       "  </thead>\n",
       "  <tbody>\n",
       "    <tr>\n",
       "      <th>Midwest</th>\n",
       "      <td>556423</td>\n",
       "      <td>810595</td>\n",
       "      <td>2173767</td>\n",
       "    </tr>\n",
       "    <tr>\n",
       "      <th>Northeast</th>\n",
       "      <td>418204</td>\n",
       "      <td>618378</td>\n",
       "      <td>1648926</td>\n",
       "    </tr>\n",
       "    <tr>\n",
       "      <th>South</th>\n",
       "      <td>1008996</td>\n",
       "      <td>1533258</td>\n",
       "      <td>4005697</td>\n",
       "    </tr>\n",
       "    <tr>\n",
       "      <th>West</th>\n",
       "      <td>364309</td>\n",
       "      <td>528768</td>\n",
       "      <td>1427632</td>\n",
       "    </tr>\n",
       "  </tbody>\n",
       "</table>\n",
       "</div>"
      ],
      "text/plain": [
       "income_group  High income  Low income  Medium income\n",
       "regions                                             \n",
       "Midwest            556423      810595        2173767\n",
       "Northeast          418204      618378        1648926\n",
       "South             1008996     1533258        4005697\n",
       "West               364309      528768        1427632"
      ]
     },
     "execution_count": 111,
     "metadata": {},
     "output_type": "execute_result"
    }
   ],
   "source": [
    "#Checking the output\n",
    "cross_income_reg"
   ]
  },
  {
   "cell_type": "code",
   "execution_count": 112,
   "id": "793f1087-a8b1-4999-b493-ff0d83382476",
   "metadata": {
    "tags": []
   },
   "outputs": [
    {
     "data": {
      "text/plain": [
       "(array([0, 1, 2, 3]),\n",
       " [Text(0, 0, 'South'),\n",
       "  Text(1, 0, 'Midwest'),\n",
       "  Text(2, 0, 'Northeast'),\n",
       "  Text(3, 0, 'West')])"
      ]
     },
     "execution_count": 112,
     "metadata": {},
     "output_type": "execute_result"
    },
    {
     "data": {
      "image/png": "[encoded data removed]",
      "text/plain": [
       "<Figure size 640x480 with 1 Axes>"
      ]
     },
     "metadata": {},
     "output_type": "display_data"
    }
   ],
   "source": [
    "# Create stacked bar chart for regions by income_group\n",
    "bar_income_group_reg = cross_income_reg.sort_values(by='Medium income', ascending=False).plot(kind='bar', stacked=True, color = ['turquoise', 'plum', 'lightgreen'])\n",
    "\n",
    "plt.ylabel('Frequency')\n",
    "plt.xlabel('Regions')\n",
    "plt.title('Customer Income Groups by Region')\n",
    "plt.legend(loc='center left', bbox_to_anchor=(1.0, 0.5), title = 'Income Group')\n",
    "\n",
    "plt.xticks(rotation = 360)"
   ]
  },
  {
   "cell_type": "code",
   "execution_count": 113,
   "id": "a35c77b6-f55c-4eab-b1a2-de573cde2284",
   "metadata": {
    "tags": []
   },
   "outputs": [],
   "source": [
    "#Exporting bar chart\n",
    "bar_income_group_reg.figure.savefig(os.path.join('04.Analysis', 'Visualizations', 'bar_income_group_reg.png'))"
   ]
  },
  {
   "cell_type": "markdown",
   "id": "36df70f1-7201-4da1-ad27-c970ba72ea2c",
   "metadata": {},
   "source": [
    "# Create a crosstab between 'marital_dependant_group' and 'region'\n"
   ]
  },
  {
   "cell_type": "code",
   "execution_count": 115,
   "id": "022b5508-2d9f-4bf6-b466-0c0affe09697",
   "metadata": {
    "tags": []
   },
   "outputs": [],
   "source": [
    "#Creating a crosstab between 'marital_dependant_group' and 'region'\n",
    "cross_marital_reg = pd.crosstab(active_customers_departs_df['regions'], active_customers_departs_df['marital_dependant_group'].sort_values(), dropna = False)\n"
   ]
  },
  {
   "cell_type": "code",
   "execution_count": 116,
   "id": "a9786459-5426-4349-a0b1-3cec3f6b43f2",
   "metadata": {
    "tags": []
   },
   "outputs": [
    {
     "data": {
      "text/html": [
       "<div>\n",
       "<style scoped>\n",
       "    .dataframe tbody tr th:only-of-type {\n",
       "        vertical-align: middle;\n",
       "    }\n",
       "\n",
       "    .dataframe tbody tr th {\n",
       "        vertical-align: top;\n",
       "    }\n",
       "\n",
       "    .dataframe thead th {\n",
       "        text-align: right;\n",
       "    }\n",
       "</style>\n",
       "<table border=\"1\" class=\"dataframe\">\n",
       "  <thead>\n",
       "    <tr style=\"text-align: right;\">\n",
       "      <th>marital_dependant_group</th>\n",
       "      <th>Married with dependants</th>\n",
       "      <th>Single with dependants</th>\n",
       "      <th>Single without dependants</th>\n",
       "    </tr>\n",
       "    <tr>\n",
       "      <th>regions</th>\n",
       "      <th></th>\n",
       "      <th></th>\n",
       "      <th></th>\n",
       "    </tr>\n",
       "  </thead>\n",
       "  <tbody>\n",
       "    <tr>\n",
       "      <th>Midwest</th>\n",
       "      <td>2477079</td>\n",
       "      <td>170376</td>\n",
       "      <td>893330</td>\n",
       "    </tr>\n",
       "    <tr>\n",
       "      <th>Northeast</th>\n",
       "      <td>1889548</td>\n",
       "      <td>113076</td>\n",
       "      <td>682884</td>\n",
       "    </tr>\n",
       "    <tr>\n",
       "      <th>South</th>\n",
       "      <td>4621603</td>\n",
       "      <td>331387</td>\n",
       "      <td>1594961</td>\n",
       "    </tr>\n",
       "    <tr>\n",
       "      <th>West</th>\n",
       "      <td>1632493</td>\n",
       "      <td>103323</td>\n",
       "      <td>584893</td>\n",
       "    </tr>\n",
       "  </tbody>\n",
       "</table>\n",
       "</div>"
      ],
      "text/plain": [
       "marital_dependant_group  Married with dependants  Single with dependants  \\\n",
       "regions                                                                    \n",
       "Midwest                                  2477079                  170376   \n",
       "Northeast                                1889548                  113076   \n",
       "South                                    4621603                  331387   \n",
       "West                                     1632493                  103323   \n",
       "\n",
       "marital_dependant_group  Single without dependants  \n",
       "regions                                             \n",
       "Midwest                                     893330  \n",
       "Northeast                                   682884  \n",
       "South                                      1594961  \n",
       "West                                        584893  "
      ]
     },
     "execution_count": 116,
     "metadata": {},
     "output_type": "execute_result"
    }
   ],
   "source": [
    "#checking the output\n",
    "cross_marital_reg"
   ]
  },
  {
   "cell_type": "code",
   "execution_count": 121,
   "id": "3e945095-23aa-4e6c-96ca-55192aee1ed7",
   "metadata": {
    "tags": []
   },
   "outputs": [
    {
     "data": {
      "text/plain": [
       "(array([0, 1, 2, 3]),\n",
       " [Text(0, 0, 'South'),\n",
       "  Text(1, 0, 'Midwest'),\n",
       "  Text(2, 0, 'Northeast'),\n",
       "  Text(3, 0, 'West')])"
      ]
     },
     "execution_count": 121,
     "metadata": {},
     "output_type": "execute_result"
    },
    {
     "data": {
      "image/png": "[encoded data removed]",
      "text/plain": [
       "<Figure size 640x480 with 1 Axes>"
      ]
     },
     "metadata": {},
     "output_type": "display_data"
    }
   ],
   "source": [
    "# Creating stacked bar chart for regions by marital_dependant_group\n",
    "bar_marital_group_reg = cross_marital_reg.sort_values(by='Married with dependants', ascending=False).plot(kind='bar', stacked=True, color = ['tab:orange', 'tab:green', 'tab:blue'])\n",
    "\n",
    "plt.ylabel('Frequency')\n",
    "plt.xlabel('Regions')\n",
    "plt.title('Customer Family Status by Region')\n",
    "plt.legend(loc='center left', bbox_to_anchor=(1.0, 0.5), title = 'Family Status')\n",
    "\n",
    "plt.xticks(rotation = 360)"
   ]
  },
  {
   "cell_type": "code",
   "execution_count": 122,
   "id": "25779dde-7d34-475b-a9d3-49035864e3f8",
   "metadata": {
    "tags": []
   },
   "outputs": [],
   "source": [
    "#Exporting bar chart\n",
    "bar_marital_group_reg.figure.savefig(os.path.join('04.Analysis', 'Visualizations', 'bar_marital_group_reg.png'))"
   ]
  },
  {
   "cell_type": "markdown",
   "id": "dfe8c638-7ae6-4331-bbbe-5e8a24bb38af",
   "metadata": {},
   "source": [
    "# Create a crosstab between 'department' and 'regions'\n"
   ]
  },
  {
   "cell_type": "code",
   "execution_count": 123,
   "id": "d04bdcc1-076c-4e18-bb5f-f4421497e411",
   "metadata": {
    "tags": []
   },
   "outputs": [],
   "source": [
    "# Create a crosstab between 'department' and 'regions'\n",
    "cross_depart_reg = pd.crosstab(active_customers_departs_df['department'], active_customers_departs_df['regions'].sort_values(), dropna = False)"
   ]
  },
  {
   "cell_type": "code",
   "execution_count": 124,
   "id": "459ba905-78a9-4681-8fed-60cae4e32b3c",
   "metadata": {
    "tags": []
   },
   "outputs": [
    {
     "data": {
      "text/html": [
       "<div>\n",
       "<style scoped>\n",
       "    .dataframe tbody tr th:only-of-type {\n",
       "        vertical-align: middle;\n",
       "    }\n",
       "\n",
       "    .dataframe tbody tr th {\n",
       "        vertical-align: top;\n",
       "    }\n",
       "\n",
       "    .dataframe thead th {\n",
       "        text-align: right;\n",
       "    }\n",
       "</style>\n",
       "<table border=\"1\" class=\"dataframe\">\n",
       "  <thead>\n",
       "    <tr style=\"text-align: right;\">\n",
       "      <th>regions</th>\n",
       "      <th>Midwest</th>\n",
       "      <th>Northeast</th>\n",
       "      <th>South</th>\n",
       "      <th>West</th>\n",
       "    </tr>\n",
       "    <tr>\n",
       "      <th>department</th>\n",
       "      <th></th>\n",
       "      <th></th>\n",
       "      <th></th>\n",
       "      <th></th>\n",
       "    </tr>\n",
       "  </thead>\n",
       "  <tbody>\n",
       "    <tr>\n",
       "      <th>alcohol</th>\n",
       "      <td>15673</td>\n",
       "      <td>12068</td>\n",
       "      <td>31215</td>\n",
       "      <td>10258</td>\n",
       "    </tr>\n",
       "    <tr>\n",
       "      <th>babies</th>\n",
       "      <td>46116</td>\n",
       "      <td>35871</td>\n",
       "      <td>87337</td>\n",
       "      <td>30453</td>\n",
       "    </tr>\n",
       "    <tr>\n",
       "      <th>bakery</th>\n",
       "      <td>128677</td>\n",
       "      <td>97786</td>\n",
       "      <td>238684</td>\n",
       "      <td>83295</td>\n",
       "    </tr>\n",
       "    <tr>\n",
       "      <th>beverages</th>\n",
       "      <td>291466</td>\n",
       "      <td>225903</td>\n",
       "      <td>542926</td>\n",
       "      <td>190281</td>\n",
       "    </tr>\n",
       "    <tr>\n",
       "      <th>breakfast</th>\n",
       "      <td>76367</td>\n",
       "      <td>58340</td>\n",
       "      <td>141390</td>\n",
       "      <td>51267</td>\n",
       "    </tr>\n",
       "    <tr>\n",
       "      <th>...</th>\n",
       "      <td>...</td>\n",
       "      <td>...</td>\n",
       "      <td>...</td>\n",
       "      <td>...</td>\n",
       "    </tr>\n",
       "    <tr>\n",
       "      <th>pantry</th>\n",
       "      <td>204127</td>\n",
       "      <td>152837</td>\n",
       "      <td>377961</td>\n",
       "      <td>133851</td>\n",
       "    </tr>\n",
       "    <tr>\n",
       "      <th>personal care</th>\n",
       "      <td>49044</td>\n",
       "      <td>36795</td>\n",
       "      <td>89729</td>\n",
       "      <td>31602</td>\n",
       "    </tr>\n",
       "    <tr>\n",
       "      <th>pets</th>\n",
       "      <td>9970</td>\n",
       "      <td>8127</td>\n",
       "      <td>17959</td>\n",
       "      <td>7993</td>\n",
       "    </tr>\n",
       "    <tr>\n",
       "      <th>produce</th>\n",
       "      <td>1040387</td>\n",
       "      <td>787496</td>\n",
       "      <td>1922036</td>\n",
       "      <td>680027</td>\n",
       "    </tr>\n",
       "    <tr>\n",
       "      <th>snacks</th>\n",
       "      <td>315005</td>\n",
       "      <td>240986</td>\n",
       "      <td>584813</td>\n",
       "      <td>204244</td>\n",
       "    </tr>\n",
       "  </tbody>\n",
       "</table>\n",
       "<p>21 rows × 4 columns</p>\n",
       "</div>"
      ],
      "text/plain": [
       "regions        Midwest  Northeast    South    West\n",
       "department                                        \n",
       "alcohol          15673      12068    31215   10258\n",
       "babies           46116      35871    87337   30453\n",
       "bakery          128677      97786   238684   83295\n",
       "beverages       291466     225903   542926  190281\n",
       "breakfast        76367      58340   141390   51267\n",
       "...                ...        ...      ...     ...\n",
       "pantry          204127     152837   377961  133851\n",
       "personal care    49044      36795    89729   31602\n",
       "pets              9970       8127    17959    7993\n",
       "produce        1040387     787496  1922036  680027\n",
       "snacks          315005     240986   584813  204244\n",
       "\n",
       "[21 rows x 4 columns]"
      ]
     },
     "execution_count": 124,
     "metadata": {},
     "output_type": "execute_result"
    }
   ],
   "source": [
    "# Checking the output\n",
    "cross_depart_reg"
   ]
  },
  {
   "cell_type": "code",
   "execution_count": 128,
   "id": "969bd028-2e25-4d3f-8330-07004e84b4cf",
   "metadata": {
    "tags": []
   },
   "outputs": [
    {
     "data": {
      "text/plain": [
       "<matplotlib.legend.Legend at 0x136573990>"
      ]
     },
     "execution_count": 128,
     "metadata": {},
     "output_type": "execute_result"
    },
    {
     "data": {
      "image/png": "[encoded data removed]",
      "text/plain": [
       "<Figure size 640x480 with 1 Axes>"
      ]
     },
     "metadata": {},
     "output_type": "display_data"
    }
   ],
   "source": [
    "# Create stacked bar chart for region by department\n",
    "\n",
    "bar_depart_reg = cross_depart_reg.sort_values(by='West', ascending=True).plot(kind='barh', stacked=True)\n",
    "plt.xlabel('Frequency')\n",
    "plt.ylabel('Department')\n",
    "plt.title('Regions by Department')\n",
    "plt.legend(title = 'Regions')"
   ]
  },
  {
   "cell_type": "code",
   "execution_count": 129,
   "id": "632d00d1-b51a-4fff-b42b-aedc9fbf0032",
   "metadata": {
    "tags": []
   },
   "outputs": [],
   "source": [
    "#Exporting bar chart\n",
    "bar_depart_reg.figure.savefig(os.path.join('04.Analysis', 'Visualizations', 'bar_depart_reg.png'))"
   ]
  },
  {
   "cell_type": "markdown",
   "id": "fa781531-9031-4a24-8ea7-5c68edb9208b",
   "metadata": {},
   "source": [
    "# Create a crosstab between 'age_group' and 'marital_dependant_group'\n"
   ]
  },
  {
   "cell_type": "code",
   "execution_count": 130,
   "id": "c237cce4-6586-416a-9185-6eb376445257",
   "metadata": {
    "tags": []
   },
   "outputs": [],
   "source": [
    "# Create a crosstab between 'age_group' and 'marital_dependant_group'\n",
    "cross_age_marital = pd.crosstab(active_customers_departs_df['age_group'], active_customers_departs_df['marital_dependant_group'].sort_values(), dropna = False)"
   ]
  },
  {
   "cell_type": "code",
   "execution_count": 131,
   "id": "c22db5a1-6e44-442f-9db1-c491505c6bec",
   "metadata": {
    "tags": []
   },
   "outputs": [
    {
     "data": {
      "text/html": [
       "<div>\n",
       "<style scoped>\n",
       "    .dataframe tbody tr th:only-of-type {\n",
       "        vertical-align: middle;\n",
       "    }\n",
       "\n",
       "    .dataframe tbody tr th {\n",
       "        vertical-align: top;\n",
       "    }\n",
       "\n",
       "    .dataframe thead th {\n",
       "        text-align: right;\n",
       "    }\n",
       "</style>\n",
       "<table border=\"1\" class=\"dataframe\">\n",
       "  <thead>\n",
       "    <tr style=\"text-align: right;\">\n",
       "      <th>marital_dependant_group</th>\n",
       "      <th>Married with dependants</th>\n",
       "      <th>Single with dependants</th>\n",
       "      <th>Single without dependants</th>\n",
       "    </tr>\n",
       "    <tr>\n",
       "      <th>age_group</th>\n",
       "      <th></th>\n",
       "      <th></th>\n",
       "      <th></th>\n",
       "    </tr>\n",
       "  </thead>\n",
       "  <tbody>\n",
       "    <tr>\n",
       "      <th>18-29 years old</th>\n",
       "      <td>1409842</td>\n",
       "      <td>718162</td>\n",
       "      <td>692312</td>\n",
       "    </tr>\n",
       "    <tr>\n",
       "      <th>30-49 years old</th>\n",
       "      <td>3549366</td>\n",
       "      <td>0</td>\n",
       "      <td>1187067</td>\n",
       "    </tr>\n",
       "    <tr>\n",
       "      <th>50-64 years old</th>\n",
       "      <td>2625632</td>\n",
       "      <td>0</td>\n",
       "      <td>891193</td>\n",
       "    </tr>\n",
       "    <tr>\n",
       "      <th>65-81 years old</th>\n",
       "      <td>3035883</td>\n",
       "      <td>0</td>\n",
       "      <td>985496</td>\n",
       "    </tr>\n",
       "  </tbody>\n",
       "</table>\n",
       "</div>"
      ],
      "text/plain": [
       "marital_dependant_group  Married with dependants  Single with dependants  \\\n",
       "age_group                                                                  \n",
       "18-29 years old                          1409842                  718162   \n",
       "30-49 years old                          3549366                       0   \n",
       "50-64 years old                          2625632                       0   \n",
       "65-81 years old                          3035883                       0   \n",
       "\n",
       "marital_dependant_group  Single without dependants  \n",
       "age_group                                           \n",
       "18-29 years old                             692312  \n",
       "30-49 years old                            1187067  \n",
       "50-64 years old                             891193  \n",
       "65-81 years old                             985496  "
      ]
     },
     "execution_count": 131,
     "metadata": {},
     "output_type": "execute_result"
    }
   ],
   "source": [
    "# Checking the output\n",
    "cross_age_marital"
   ]
  },
  {
   "cell_type": "code",
   "execution_count": 137,
   "id": "c3da21bd-8210-47a2-9190-ae491ca3532a",
   "metadata": {
    "tags": []
   },
   "outputs": [
    {
     "data": {
      "text/plain": [
       "(array([0, 1, 2, 3]),\n",
       " [Text(0, 0, '18-29 years old'),\n",
       "  Text(1, 0, '30-49 years old'),\n",
       "  Text(2, 0, '50-64 years old'),\n",
       "  Text(3, 0, '65-81 years old')])"
      ]
     },
     "execution_count": 137,
     "metadata": {},
     "output_type": "execute_result"
    },
    {
     "data": {
      "image/png": "[encoded data removed]",
      "text/plain": [
       "<Figure size 640x480 with 1 Axes>"
      ]
     },
     "metadata": {},
     "output_type": "display_data"
    }
   ],
   "source": [
    "# Create stacked bar chart for age_group by region\n",
    "bar_age_marital = cross_age_marital.plot(kind='bar', stacked=True, color = ['tab:green', 'tab:orange', 'tab:red'])\n",
    "plt.ylabel('Frequency')\n",
    "plt.xlabel('Age Group')\n",
    "plt.title('Customer Family Status per Age Group')\n",
    "plt.legend(bbox_to_anchor=(1.0, 0.5), title = 'Family Status')\n",
    "\n",
    "plt.xticks(rotation = 360)"
   ]
  },
  {
   "cell_type": "code",
   "execution_count": 138,
   "id": "9e639cbb-d9b7-4506-a768-2a770d2d41b8",
   "metadata": {
    "tags": []
   },
   "outputs": [],
   "source": [
    "#Exporting bar chart\n",
    "bar_age_marital.figure.savefig(os.path.join('04.Analysis', 'Visualizations', 'bar_age_marital.png'))"
   ]
  },
  {
   "cell_type": "code",
   "execution_count": null,
   "id": "312fe22c-9cb7-4a41-a877-ee5edf2d03dc",
   "metadata": {},
   "outputs": [],
   "source": []
  },
  {
   "cell_type": "code",
   "execution_count": 140,
   "id": "0637912a-1ca2-489d-80e8-f62bb3c3b88c",
   "metadata": {
    "tags": []
   },
   "outputs": [],
   "source": [
    "# Exporting Final Dataframe \n",
    "newpath = 'preparedData'\n",
    "active_customers_departs_df.to_pickle(os.path.join(newpath,'active_customers_departs.pkl'))"
   ]
  },
  {
   "cell_type": "code",
   "execution_count": null,
   "id": "8fb6ab07-ea48-4847-ba37-4fe854e4ea88",
   "metadata": {},
   "outputs": [],
   "source": []
  },
  {
   "cell_type": "code",
   "execution_count": null,
   "id": "9b3d41ff-91c9-4180-b843-a977826936be",
   "metadata": {},
   "outputs": [],
   "source": []
  },
  {
   "cell_type": "code",
   "execution_count": null,
   "id": "ed74925b-e812-41ca-957a-4a0e4d66c58a",
   "metadata": {},
   "outputs": [],
   "source": []
  },
  {
   "cell_type": "code",
   "execution_count": null,
   "id": "03db6e9c-83b3-4ca3-aff5-3db7e100326a",
   "metadata": {},
   "outputs": [],
   "source": []
  },
  {
   "cell_type": "code",
   "execution_count": null,
   "id": "1d7b25c7-d132-4f82-a29e-ad88000eb42a",
   "metadata": {},
   "outputs": [],
   "source": []
  }
 ],
 "metadata": {
  "kernelspec": {
   "display_name": "Python 3 (ipykernel)",
   "language": "python",
   "name": "python3"
  },
  "language_info": {
   "codemirror_mode": {
    "name": "ipython",
    "version": 3
   },
   "file_extension": ".py",
   "mimetype": "text/x-python",
   "name": "python",
   "nbconvert_exporter": "python",
   "pygments_lexer": "ipython3",
   "version": "3.11.5"
  }
 },
 "nbformat": 4,
 "nbformat_minor": 5
}
